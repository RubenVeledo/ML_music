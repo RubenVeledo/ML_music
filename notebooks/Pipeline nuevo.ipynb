{
 "cells": [
  {
   "cell_type": "code",
   "execution_count": 21,
   "metadata": {},
   "outputs": [],
   "source": [
    "import pandas as pd\n",
    "from sklearn.pipeline import Pipeline\n",
    "from sklearn.impute import SimpleImputer\n",
    "from sklearn.preprocessing import StandardScaler\n",
    "from sklearn.ensemble import RandomForestClassifier\n",
    "from sklearn.cluster import KMeans\n",
    "from sklearn.model_selection import GridSearchCV\n",
    "from sklearn.model_selection import train_test_split\n",
    "from sklearn.decomposition import PCA\n",
    "from sklearn.neighbors import KNeighborsClassifier\n",
    "from sklearn.svm import SVC\n",
    "from sklearn.metrics import accuracy_score, classification_report\n",
    "from sklearn.feature_selection import SelectKBest"
   ]
  },
  {
   "cell_type": "code",
   "execution_count": 22,
   "metadata": {},
   "outputs": [],
   "source": [
    "df = pd.read_csv(\"../data/processed/processed_dummies.csv\", index_col=0)"
   ]
  },
  {
   "cell_type": "code",
   "execution_count": 23,
   "metadata": {},
   "outputs": [],
   "source": [
    "df = df[(df['decade'] >= 1950) & (df['decade'] < 2010)]"
   ]
  },
  {
   "cell_type": "code",
   "execution_count": 24,
   "metadata": {},
   "outputs": [],
   "source": [
    "df['popularity_normalized'] = (df['popularity'] - df.groupby('decade')['popularity'].transform('mean')) / df.groupby('decade')['popularity'].transform('std')"
   ]
  },
  {
   "cell_type": "code",
   "execution_count": 25,
   "metadata": {},
   "outputs": [],
   "source": [
    "sample_size = 20000\n",
    "df_sample = df.sample(n=sample_size, random_state=42)"
   ]
  },
  {
   "cell_type": "code",
   "execution_count": 26,
   "metadata": {},
   "outputs": [],
   "source": [
    "X = df_sample[['duration_ms', 'acousticness', 'danceability', 'energy', 'instrumentalness',\n",
    "       'liveness', 'loudness', 'speechiness', 'tempo', 'valence', 'mode',\n",
    "       'key', 'explicit', 'artists_frequency',\n",
    "       'version_Live', 'version_Original', 'version_Remaster',\n",
    "       'version_Remix', 'energy_danceability_valence', 'acoustic_intensity',\n",
    "       'popularity_energy_ratio', 'valence_energy_dif', 'popularity_normalized']]\n",
    "y = df_sample['decade_label']"
   ]
  },
  {
   "cell_type": "code",
   "execution_count": 27,
   "metadata": {},
   "outputs": [
    {
     "name": "stdout",
     "output_type": "stream",
     "text": [
      "(20000, 23)\n",
      "(16000, 23)\n",
      "(4000, 23)\n",
      "(16000,)\n",
      "(4000,)\n"
     ]
    }
   ],
   "source": [
    "X_train, X_test, y_train, y_test = train_test_split(X, y, test_size=0.2, random_state=42)\n",
    "\n",
    "print(X.shape)\n",
    "print(X_train.shape)\n",
    "print(X_test.shape)\n",
    "print(y_train.shape)\n",
    "print(y_test.shape)"
   ]
  },
  {
   "cell_type": "code",
   "execution_count": 28,
   "metadata": {},
   "outputs": [],
   "source": [
    "#SVM Pipeline\n",
    "svm = Pipeline(steps=[\n",
    "    (\"imputer\", SimpleImputer(strategy=\"median\")),\n",
    "    (\"scaler\", StandardScaler()),\n",
    "    (\"selectkbest\", SelectKBest()),\n",
    "    (\"pca\", PCA(n_components=10)),\n",
    "    (\"svm\", SVC())\n",
    "])\n",
    "\n",
    "svm_param = {\n",
    "    \"svm__C\": [0.1, 1, 10],\n",
    "    \"svm__kernel\": [\"linear\", \"rbf\"],\n",
    "    \"svm__gamma\": [\"scale\", \"auto\"],\n",
    "}\n",
    "\n",
    "#KNN Pipeline\n",
    "knn = Pipeline(steps=[\n",
    "    (\"imputer\", SimpleImputer(strategy=\"median\")),\n",
    "    (\"scaler\", StandardScaler()),\n",
    "    (\"selectkbest\", SelectKBest()),\n",
    "    (\"pca\", PCA(n_components=10)),\n",
    "    (\"knn\", KNeighborsClassifier())\n",
    "])\n",
    "\n",
    "knn_param = {\n",
    "    \"knn__n_neighbors\": [3, 5, 10],\n",
    "    \"knn__weights\": [\"uniform\", \"distance\"],\n",
    "    \"knn__p\": [1, 2],\n",
    "}\n",
    "\n",
    "#GridSearchCV\n",
    "gs_svm = GridSearchCV(svm, svm_param, cv=3, scoring=\"accuracy\", verbose=1, n_jobs=-1)\n",
    "gs_knn = GridSearchCV(knn, knn_param, cv=3, scoring=\"accuracy\", verbose=1, n_jobs=-1)\n",
    "\n",
    "\n",
    "grids = {\n",
    "    \"gs_svm\": gs_svm,\n",
    "    \"gs_knn\": gs_knn,\n",
    "}\n"
   ]
  },
  {
   "cell_type": "code",
   "execution_count": 29,
   "metadata": {},
   "outputs": [
    {
     "name": "stdout",
     "output_type": "stream",
     "text": [
      "Entrenando gs_svm...\n",
      "Fitting 3 folds for each of 12 candidates, totalling 36 fits\n"
     ]
    },
    {
     "name": "stdout",
     "output_type": "stream",
     "text": [
      "Mejores parámetros para gs_svm: {'svm__C': 10, 'svm__gamma': 'scale', 'svm__kernel': 'rbf'}\n",
      "Mejor score para gs_svm: 0.6545623996512905\n",
      "Entrenando gs_knn...\n",
      "Fitting 3 folds for each of 12 candidates, totalling 36 fits\n",
      "Mejores parámetros para gs_knn: {'knn__n_neighbors': 10, 'knn__p': 1, 'knn__weights': 'distance'}\n",
      "Mejor score para gs_knn: 0.6308119932411412\n"
     ]
    }
   ],
   "source": [
    "results = {}\n",
    "\n",
    "\n",
    "for name, grid in grids.items():\n",
    "    print(f\"Entrenando {name}...\")\n",
    "    grid.fit(X_train, y_train)\n",
    "    results[name] = grid\n",
    "    print(f\"Mejores parámetros para {name}: {grid.best_params_}\")\n",
    "    print(f\"Mejor score para {name}: {grid.best_score_}\")"
   ]
  },
  {
   "cell_type": "code",
   "execution_count": 30,
   "metadata": {},
   "outputs": [
    {
     "name": "stdout",
     "output_type": "stream",
     "text": [
      "Resultados para SVM:\n",
      "Accuracy en test: 0.6757\n",
      "Reporte de clasificación:\n",
      "              precision    recall  f1-score   support\n",
      "\n",
      "           1       0.67      0.80      0.73      1344\n",
      "           2       0.62      0.60      0.61      1307\n",
      "           3       0.75      0.63      0.68      1349\n",
      "\n",
      "    accuracy                           0.68      4000\n",
      "   macro avg       0.68      0.68      0.67      4000\n",
      "weighted avg       0.68      0.68      0.67      4000\n",
      "\n"
     ]
    }
   ],
   "source": [
    "svm_best = results[\"gs_svm\"].best_estimator_\n",
    "y_pred_svm = svm_best.predict(X_test)\n",
    "print(\"Resultados para SVM:\")\n",
    "print(f\"Accuracy en test: {accuracy_score(y_test, y_pred_svm):.4f}\")\n",
    "print(\"Reporte de clasificación:\")\n",
    "print(classification_report(y_test, y_pred_svm))"
   ]
  },
  {
   "cell_type": "code",
   "execution_count": 31,
   "metadata": {},
   "outputs": [
    {
     "name": "stdout",
     "output_type": "stream",
     "text": [
      "Resultados para KNN:\n",
      "Accuracy en test: 0.6500\n",
      "Reporte de clasificación:\n",
      "              precision    recall  f1-score   support\n",
      "\n",
      "           1       0.68      0.76      0.71      1344\n",
      "           2       0.59      0.56      0.57      1307\n",
      "           3       0.68      0.63      0.65      1349\n",
      "\n",
      "    accuracy                           0.65      4000\n",
      "   macro avg       0.65      0.65      0.65      4000\n",
      "weighted avg       0.65      0.65      0.65      4000\n",
      "\n"
     ]
    }
   ],
   "source": [
    "knn_best = results[\"gs_knn\"].best_estimator_\n",
    "y_pred_knn = knn_best.predict(X_test)\n",
    "print(\"Resultados para KNN:\")\n",
    "print(f\"Accuracy en test: {accuracy_score(y_test, y_pred_knn):.4f}\")\n",
    "print(\"Reporte de clasificación:\")\n",
    "print(classification_report(y_test, y_pred_knn))"
   ]
  },
  {
   "cell_type": "markdown",
   "metadata": {},
   "source": [
    "### Guardar modelos"
   ]
  },
  {
   "cell_type": "code",
   "execution_count": 32,
   "metadata": {},
   "outputs": [],
   "source": [
    "import pickle\n",
    "\n",
    "with open('SVMpipeline.pkl', 'wb') as f:\n",
    "    pickle.dump(svm_best, f)"
   ]
  },
  {
   "cell_type": "code",
   "execution_count": 33,
   "metadata": {},
   "outputs": [],
   "source": [
    "with open('KNNpipeline.pkl', 'wb') as f:\n",
    "    pickle.dump(knn_best, f)"
   ]
  },
  {
   "cell_type": "code",
   "execution_count": 36,
   "metadata": {},
   "outputs": [],
   "source": [
    "import yaml\n",
    "\n",
    "svm_params = results[\"gs_svm\"].best_params_\n",
    "knn_params = results[\"gs_knn\"].best_params_"
   ]
  },
  {
   "cell_type": "code",
   "execution_count": 38,
   "metadata": {},
   "outputs": [],
   "source": [
    "with open(\"svm_params_pipeline.yaml\", \"w\") as svm_file:\n",
    "    yaml.dump(svm_params, svm_file)"
   ]
  },
  {
   "cell_type": "code",
   "execution_count": 39,
   "metadata": {},
   "outputs": [],
   "source": [
    "with open(\"knn_params_pipeline.yaml\", \"w\") as knn_file:\n",
    "    yaml.dump(knn_params, knn_file)"
   ]
  }
 ],
 "metadata": {
  "kernelspec": {
   "display_name": "Python 3",
   "language": "python",
   "name": "python3"
  },
  "language_info": {
   "codemirror_mode": {
    "name": "ipython",
    "version": 3
   },
   "file_extension": ".py",
   "mimetype": "text/x-python",
   "name": "python",
   "nbconvert_exporter": "python",
   "pygments_lexer": "ipython3",
   "version": "3.12.6"
  }
 },
 "nbformat": 4,
 "nbformat_minor": 2
}
