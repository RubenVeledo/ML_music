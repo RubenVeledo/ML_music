{
 "cells": [
  {
   "cell_type": "markdown",
   "metadata": {},
   "source": [
    "## Entrenamiento  y evaluación de los mejores modelos"
   ]
  },
  {
   "cell_type": "markdown",
   "metadata": {},
   "source": [
    "En este documento se incluye en el entrenamiento y la evaluación de las mejores versiones (en función de resultados obtenidos) de los modelos entrenados. Los detalles de las pruebas y las diferentes versiones de cada uno de ellos están recogidas en la subcarpeta \"testing\". "
   ]
  },
  {
   "cell_type": "markdown",
   "metadata": {},
   "source": [
    "------"
   ]
  },
  {
   "cell_type": "markdown",
   "metadata": {},
   "source": [
    "Librerias comunes"
   ]
  },
  {
   "cell_type": "code",
   "execution_count": 118,
   "metadata": {},
   "outputs": [],
   "source": [
    "import pandas as pd\n",
    "import numpy as np\n",
    "import matplotlib.pyplot as plt\n",
    "import seaborn as sns\n",
    "from sklearn.model_selection import train_test_split, GridSearchCV, cross_val_score\n",
    "from sklearn.preprocessing import StandardScaler, RobustScaler\n",
    "from sklearn.feature_selection import SelectKBest, f_classif\n",
    "import warnings\n",
    "from sklearn.metrics import accuracy_score, precision_score, recall_score, f1_score, classification_report, confusion_matrix"
   ]
  },
  {
   "cell_type": "markdown",
   "metadata": {},
   "source": [
    "Dataset para train"
   ]
  },
  {
   "cell_type": "code",
   "execution_count": 46,
   "metadata": {},
   "outputs": [],
   "source": [
    "df = pd.read_csv(\"../data/train/train.csv\")"
   ]
  },
  {
   "cell_type": "markdown",
   "metadata": {},
   "source": [
    "Dataset para test (datos no vistos)"
   ]
  },
  {
   "cell_type": "code",
   "execution_count": 47,
   "metadata": {},
   "outputs": [],
   "source": [
    "df_test = pd.read_csv(\"../data/test/test.csv\")"
   ]
  },
  {
   "cell_type": "markdown",
   "metadata": {},
   "source": [
    "Dataset con canciones actuales"
   ]
  },
  {
   "cell_type": "code",
   "execution_count": null,
   "metadata": {},
   "outputs": [],
   "source": []
  },
  {
   "cell_type": "markdown",
   "metadata": {},
   "source": [
    "### Información general de los datasets"
   ]
  },
  {
   "cell_type": "code",
   "execution_count": 48,
   "metadata": {},
   "outputs": [
    {
     "data": {
      "text/html": [
       "<div>\n",
       "<style scoped>\n",
       "    .dataframe tbody tr th:only-of-type {\n",
       "        vertical-align: middle;\n",
       "    }\n",
       "\n",
       "    .dataframe tbody tr th {\n",
       "        vertical-align: top;\n",
       "    }\n",
       "\n",
       "    .dataframe thead th {\n",
       "        text-align: right;\n",
       "    }\n",
       "</style>\n",
       "<table border=\"1\" class=\"dataframe\">\n",
       "  <thead>\n",
       "    <tr style=\"text-align: right;\">\n",
       "      <th></th>\n",
       "      <th>id</th>\n",
       "      <th>name</th>\n",
       "      <th>artists</th>\n",
       "      <th>duration_ms</th>\n",
       "      <th>release_date</th>\n",
       "      <th>year</th>\n",
       "      <th>acousticness</th>\n",
       "      <th>danceability</th>\n",
       "      <th>energy</th>\n",
       "      <th>instrumentalness</th>\n",
       "      <th>...</th>\n",
       "      <th>version_Remix</th>\n",
       "      <th>version_type_encoded</th>\n",
       "      <th>decade</th>\n",
       "      <th>decade_range</th>\n",
       "      <th>energy_danceability_valence</th>\n",
       "      <th>acoustic_intensity</th>\n",
       "      <th>popularity_energy_ratio</th>\n",
       "      <th>valence_energy_dif</th>\n",
       "      <th>decade_label</th>\n",
       "      <th>popularity_normalized</th>\n",
       "    </tr>\n",
       "  </thead>\n",
       "  <tbody>\n",
       "    <tr>\n",
       "      <th>0</th>\n",
       "      <td>1xUJ1mdLAysxNBtO9w3J2g</td>\n",
       "      <td>Stompin At The Savoy</td>\n",
       "      <td>['Benny Goodman']</td>\n",
       "      <td>195533</td>\n",
       "      <td>1/1/90</td>\n",
       "      <td>1990</td>\n",
       "      <td>0.836</td>\n",
       "      <td>0.5250</td>\n",
       "      <td>0.222</td>\n",
       "      <td>0.079900</td>\n",
       "      <td>...</td>\n",
       "      <td>0</td>\n",
       "      <td>1</td>\n",
       "      <td>1990</td>\n",
       "      <td>90s-00s</td>\n",
       "      <td>0.075175</td>\n",
       "      <td>-9.250340</td>\n",
       "      <td>225.215080</td>\n",
       "      <td>0.4230</td>\n",
       "      <td>2</td>\n",
       "      <td>0.370632</td>\n",
       "    </tr>\n",
       "    <tr>\n",
       "      <th>1</th>\n",
       "      <td>62fX8EW16l8St2yL8rMer9</td>\n",
       "      <td>In My Room - Remastered</td>\n",
       "      <td>['The Beach Boys']</td>\n",
       "      <td>134133</td>\n",
       "      <td>9/16/63</td>\n",
       "      <td>1963</td>\n",
       "      <td>0.184</td>\n",
       "      <td>0.3410</td>\n",
       "      <td>0.416</td>\n",
       "      <td>0.000063</td>\n",
       "      <td>...</td>\n",
       "      <td>0</td>\n",
       "      <td>2</td>\n",
       "      <td>1960</td>\n",
       "      <td>50s-60s</td>\n",
       "      <td>0.070786</td>\n",
       "      <td>-1.761616</td>\n",
       "      <td>129.804572</td>\n",
       "      <td>0.0830</td>\n",
       "      <td>0</td>\n",
       "      <td>2.548527</td>\n",
       "    </tr>\n",
       "    <tr>\n",
       "      <th>2</th>\n",
       "      <td>0vTrXo9zLWib36Us8BQ4sN</td>\n",
       "      <td>State Of Independence - Single Version</td>\n",
       "      <td>['Jon &amp; Vangelis']</td>\n",
       "      <td>262107</td>\n",
       "      <td>1/1/84</td>\n",
       "      <td>1984</td>\n",
       "      <td>0.148</td>\n",
       "      <td>0.7520</td>\n",
       "      <td>0.652</td>\n",
       "      <td>0.045500</td>\n",
       "      <td>...</td>\n",
       "      <td>0</td>\n",
       "      <td>1</td>\n",
       "      <td>1980</td>\n",
       "      <td>70s-80s</td>\n",
       "      <td>0.428526</td>\n",
       "      <td>-1.941760</td>\n",
       "      <td>59.815034</td>\n",
       "      <td>0.2220</td>\n",
       "      <td>1</td>\n",
       "      <td>0.272035</td>\n",
       "    </tr>\n",
       "    <tr>\n",
       "      <th>3</th>\n",
       "      <td>23IoCDFHoz1uM5XELOSg1U</td>\n",
       "      <td>Chandni Raaten Pyar Ki Baaten</td>\n",
       "      <td>['Hemant Kumar', 'Lata Mangeshkar']</td>\n",
       "      <td>208973</td>\n",
       "      <td>12/1/52</td>\n",
       "      <td>1952</td>\n",
       "      <td>0.990</td>\n",
       "      <td>0.3110</td>\n",
       "      <td>0.253</td>\n",
       "      <td>0.000156</td>\n",
       "      <td>...</td>\n",
       "      <td>0</td>\n",
       "      <td>1</td>\n",
       "      <td>1950</td>\n",
       "      <td>50s-60s</td>\n",
       "      <td>0.033204</td>\n",
       "      <td>-11.814660</td>\n",
       "      <td>43.476542</td>\n",
       "      <td>0.1690</td>\n",
       "      <td>0</td>\n",
       "      <td>-0.478555</td>\n",
       "    </tr>\n",
       "    <tr>\n",
       "      <th>4</th>\n",
       "      <td>5ZrtPphrWFzzamKn3jSnv9</td>\n",
       "      <td>Adagio for Strings, Op. 11</td>\n",
       "      <td>['Samuel Barber', 'Philadelphia Orchestra', 'E...</td>\n",
       "      <td>463347</td>\n",
       "      <td>1955</td>\n",
       "      <td>1955</td>\n",
       "      <td>0.910</td>\n",
       "      <td>0.0626</td>\n",
       "      <td>0.129</td>\n",
       "      <td>0.780000</td>\n",
       "      <td>...</td>\n",
       "      <td>0</td>\n",
       "      <td>1</td>\n",
       "      <td>1950</td>\n",
       "      <td>50s-60s</td>\n",
       "      <td>0.000281</td>\n",
       "      <td>-19.532240</td>\n",
       "      <td>302.302147</td>\n",
       "      <td>-0.0942</td>\n",
       "      <td>0</td>\n",
       "      <td>1.492568</td>\n",
       "    </tr>\n",
       "  </tbody>\n",
       "</table>\n",
       "<p>5 rows × 35 columns</p>\n",
       "</div>"
      ],
      "text/plain": [
       "                       id                                    name  \\\n",
       "0  1xUJ1mdLAysxNBtO9w3J2g                    Stompin At The Savoy   \n",
       "1  62fX8EW16l8St2yL8rMer9                 In My Room - Remastered   \n",
       "2  0vTrXo9zLWib36Us8BQ4sN  State Of Independence - Single Version   \n",
       "3  23IoCDFHoz1uM5XELOSg1U           Chandni Raaten Pyar Ki Baaten   \n",
       "4  5ZrtPphrWFzzamKn3jSnv9              Adagio for Strings, Op. 11   \n",
       "\n",
       "                                             artists  duration_ms  \\\n",
       "0                                  ['Benny Goodman']       195533   \n",
       "1                                 ['The Beach Boys']       134133   \n",
       "2                                 ['Jon & Vangelis']       262107   \n",
       "3                ['Hemant Kumar', 'Lata Mangeshkar']       208973   \n",
       "4  ['Samuel Barber', 'Philadelphia Orchestra', 'E...       463347   \n",
       "\n",
       "  release_date  year  acousticness  danceability  energy  instrumentalness  \\\n",
       "0       1/1/90  1990         0.836        0.5250   0.222          0.079900   \n",
       "1      9/16/63  1963         0.184        0.3410   0.416          0.000063   \n",
       "2       1/1/84  1984         0.148        0.7520   0.652          0.045500   \n",
       "3      12/1/52  1952         0.990        0.3110   0.253          0.000156   \n",
       "4         1955  1955         0.910        0.0626   0.129          0.780000   \n",
       "\n",
       "   ...  version_Remix  version_type_encoded  decade  decade_range  \\\n",
       "0  ...              0                     1    1990       90s-00s   \n",
       "1  ...              0                     2    1960       50s-60s   \n",
       "2  ...              0                     1    1980       70s-80s   \n",
       "3  ...              0                     1    1950       50s-60s   \n",
       "4  ...              0                     1    1950       50s-60s   \n",
       "\n",
       "   energy_danceability_valence  acoustic_intensity  popularity_energy_ratio  \\\n",
       "0                     0.075175           -9.250340               225.215080   \n",
       "1                     0.070786           -1.761616               129.804572   \n",
       "2                     0.428526           -1.941760                59.815034   \n",
       "3                     0.033204          -11.814660                43.476542   \n",
       "4                     0.000281          -19.532240               302.302147   \n",
       "\n",
       "   valence_energy_dif  decade_label  popularity_normalized  \n",
       "0              0.4230             2               0.370632  \n",
       "1              0.0830             0               2.548527  \n",
       "2              0.2220             1               0.272035  \n",
       "3              0.1690             0              -0.478555  \n",
       "4             -0.0942             0               1.492568  \n",
       "\n",
       "[5 rows x 35 columns]"
      ]
     },
     "execution_count": 48,
     "metadata": {},
     "output_type": "execute_result"
    }
   ],
   "source": [
    "df.head(5)"
   ]
  },
  {
   "cell_type": "code",
   "execution_count": 49,
   "metadata": {},
   "outputs": [
    {
     "name": "stdout",
     "output_type": "stream",
     "text": [
      "<class 'pandas.core.frame.DataFrame'>\n",
      "RangeIndex: 95958 entries, 0 to 95957\n",
      "Data columns (total 35 columns):\n",
      " #   Column                       Non-Null Count  Dtype  \n",
      "---  ------                       --------------  -----  \n",
      " 0   id                           95958 non-null  object \n",
      " 1   name                         95958 non-null  object \n",
      " 2   artists                      95958 non-null  object \n",
      " 3   duration_ms                  95958 non-null  int64  \n",
      " 4   release_date                 95958 non-null  object \n",
      " 5   year                         95958 non-null  int64  \n",
      " 6   acousticness                 95958 non-null  float64\n",
      " 7   danceability                 95958 non-null  float64\n",
      " 8   energy                       95958 non-null  float64\n",
      " 9   instrumentalness             95958 non-null  float64\n",
      " 10  liveness                     95958 non-null  float64\n",
      " 11  loudness                     95958 non-null  float64\n",
      " 12  speechiness                  95958 non-null  float64\n",
      " 13  tempo                        95958 non-null  float64\n",
      " 14  valence                      95958 non-null  float64\n",
      " 15  mode                         95958 non-null  int64  \n",
      " 16  key                          95958 non-null  int64  \n",
      " 17  popularity                   95958 non-null  int64  \n",
      " 18  explicit                     95958 non-null  int64  \n",
      " 19  artists_frequency            95958 non-null  int64  \n",
      " 20  version_type                 95958 non-null  object \n",
      " 21  base_name                    95958 non-null  object \n",
      " 22  version_Live                 95958 non-null  int64  \n",
      " 23  version_Original             95958 non-null  int64  \n",
      " 24  version_Remaster             95958 non-null  int64  \n",
      " 25  version_Remix                95958 non-null  int64  \n",
      " 26  version_type_encoded         95958 non-null  int64  \n",
      " 27  decade                       95958 non-null  int64  \n",
      " 28  decade_range                 95958 non-null  object \n",
      " 29  energy_danceability_valence  95958 non-null  float64\n",
      " 30  acoustic_intensity           95958 non-null  float64\n",
      " 31  popularity_energy_ratio      95958 non-null  float64\n",
      " 32  valence_energy_dif           95958 non-null  float64\n",
      " 33  decade_label                 95958 non-null  int64  \n",
      " 34  popularity_normalized        95958 non-null  float64\n",
      "dtypes: float64(14), int64(14), object(7)\n",
      "memory usage: 25.6+ MB\n"
     ]
    }
   ],
   "source": [
    "df.info()"
   ]
  },
  {
   "cell_type": "code",
   "execution_count": 50,
   "metadata": {},
   "outputs": [
    {
     "data": {
      "text/html": [
       "<div>\n",
       "<style scoped>\n",
       "    .dataframe tbody tr th:only-of-type {\n",
       "        vertical-align: middle;\n",
       "    }\n",
       "\n",
       "    .dataframe tbody tr th {\n",
       "        vertical-align: top;\n",
       "    }\n",
       "\n",
       "    .dataframe thead th {\n",
       "        text-align: right;\n",
       "    }\n",
       "</style>\n",
       "<table border=\"1\" class=\"dataframe\">\n",
       "  <thead>\n",
       "    <tr style=\"text-align: right;\">\n",
       "      <th></th>\n",
       "      <th>id</th>\n",
       "      <th>name</th>\n",
       "      <th>artists</th>\n",
       "      <th>duration_ms</th>\n",
       "      <th>release_date</th>\n",
       "      <th>year</th>\n",
       "      <th>acousticness</th>\n",
       "      <th>danceability</th>\n",
       "      <th>energy</th>\n",
       "      <th>instrumentalness</th>\n",
       "      <th>...</th>\n",
       "      <th>version_Remix</th>\n",
       "      <th>version_type_encoded</th>\n",
       "      <th>decade</th>\n",
       "      <th>decade_range</th>\n",
       "      <th>energy_danceability_valence</th>\n",
       "      <th>acoustic_intensity</th>\n",
       "      <th>popularity_energy_ratio</th>\n",
       "      <th>valence_energy_dif</th>\n",
       "      <th>decade_label</th>\n",
       "      <th>popularity_normalized</th>\n",
       "    </tr>\n",
       "  </thead>\n",
       "  <tbody>\n",
       "    <tr>\n",
       "      <th>0</th>\n",
       "      <td>3x9WAJIEhsY8Eg5lwu1Z4A</td>\n",
       "      <td>Multiply (feat. Nate Dogg)</td>\n",
       "      <td>['Xzibit', 'Nate Dogg']</td>\n",
       "      <td>248107</td>\n",
       "      <td>10/1/02</td>\n",
       "      <td>2002</td>\n",
       "      <td>0.0285</td>\n",
       "      <td>0.915</td>\n",
       "      <td>0.719</td>\n",
       "      <td>0.000000</td>\n",
       "      <td>...</td>\n",
       "      <td>0</td>\n",
       "      <td>1</td>\n",
       "      <td>2000</td>\n",
       "      <td>90s-00s</td>\n",
       "      <td>0.525650</td>\n",
       "      <td>-0.182714</td>\n",
       "      <td>58.413652</td>\n",
       "      <td>0.0800</td>\n",
       "      <td>2</td>\n",
       "      <td>-0.480925</td>\n",
       "    </tr>\n",
       "    <tr>\n",
       "      <th>1</th>\n",
       "      <td>3H67q7a5uZr07zYTM18i6m</td>\n",
       "      <td>Un Millón De Lágrimas</td>\n",
       "      <td>['Tropical Panamá']</td>\n",
       "      <td>173787</td>\n",
       "      <td>1/1/92</td>\n",
       "      <td>1992</td>\n",
       "      <td>0.2260</td>\n",
       "      <td>0.667</td>\n",
       "      <td>0.579</td>\n",
       "      <td>0.020200</td>\n",
       "      <td>...</td>\n",
       "      <td>0</td>\n",
       "      <td>1</td>\n",
       "      <td>1990</td>\n",
       "      <td>90s-00s</td>\n",
       "      <td>0.361863</td>\n",
       "      <td>-1.688446</td>\n",
       "      <td>70.810521</td>\n",
       "      <td>0.3580</td>\n",
       "      <td>2</td>\n",
       "      <td>-0.587369</td>\n",
       "    </tr>\n",
       "    <tr>\n",
       "      <th>2</th>\n",
       "      <td>07wbIsFWkJSfkbVFSsp7Ne</td>\n",
       "      <td>Rhayader Goes To Town</td>\n",
       "      <td>['Camel']</td>\n",
       "      <td>320387</td>\n",
       "      <td>4/15/75</td>\n",
       "      <td>1975</td>\n",
       "      <td>0.2530</td>\n",
       "      <td>0.373</td>\n",
       "      <td>0.423</td>\n",
       "      <td>0.527000</td>\n",
       "      <td>...</td>\n",
       "      <td>0</td>\n",
       "      <td>1</td>\n",
       "      <td>1970</td>\n",
       "      <td>70s-80s</td>\n",
       "      <td>0.067056</td>\n",
       "      <td>-3.181981</td>\n",
       "      <td>85.104371</td>\n",
       "      <td>0.0020</td>\n",
       "      <td>1</td>\n",
       "      <td>-0.002346</td>\n",
       "    </tr>\n",
       "    <tr>\n",
       "      <th>3</th>\n",
       "      <td>53RYTfkLiyZuUZHwJC3Wmm</td>\n",
       "      <td>We Suck Young Blood</td>\n",
       "      <td>['Radiohead']</td>\n",
       "      <td>296707</td>\n",
       "      <td>2003</td>\n",
       "      <td>2003</td>\n",
       "      <td>0.8780</td>\n",
       "      <td>0.135</td>\n",
       "      <td>0.239</td>\n",
       "      <td>0.029200</td>\n",
       "      <td>...</td>\n",
       "      <td>0</td>\n",
       "      <td>1</td>\n",
       "      <td>2000</td>\n",
       "      <td>90s-00s</td>\n",
       "      <td>0.001220</td>\n",
       "      <td>-9.723850</td>\n",
       "      <td>192.460567</td>\n",
       "      <td>-0.2012</td>\n",
       "      <td>2</td>\n",
       "      <td>-0.055146</td>\n",
       "    </tr>\n",
       "    <tr>\n",
       "      <th>4</th>\n",
       "      <td>0htijg4vyYMkezwrLaUkkE</td>\n",
       "      <td>Cariño Santo - Version 1980</td>\n",
       "      <td>['Los Baron De Apodaca']</td>\n",
       "      <td>214880</td>\n",
       "      <td>1/1/80</td>\n",
       "      <td>1980</td>\n",
       "      <td>0.5960</td>\n",
       "      <td>0.678</td>\n",
       "      <td>0.465</td>\n",
       "      <td>0.000012</td>\n",
       "      <td>...</td>\n",
       "      <td>0</td>\n",
       "      <td>1</td>\n",
       "      <td>1980</td>\n",
       "      <td>70s-80s</td>\n",
       "      <td>0.240866</td>\n",
       "      <td>-3.349520</td>\n",
       "      <td>49.461302</td>\n",
       "      <td>0.2990</td>\n",
       "      <td>1</td>\n",
       "      <td>-1.191329</td>\n",
       "    </tr>\n",
       "  </tbody>\n",
       "</table>\n",
       "<p>5 rows × 35 columns</p>\n",
       "</div>"
      ],
      "text/plain": [
       "                       id                         name  \\\n",
       "0  3x9WAJIEhsY8Eg5lwu1Z4A   Multiply (feat. Nate Dogg)   \n",
       "1  3H67q7a5uZr07zYTM18i6m        Un Millón De Lágrimas   \n",
       "2  07wbIsFWkJSfkbVFSsp7Ne        Rhayader Goes To Town   \n",
       "3  53RYTfkLiyZuUZHwJC3Wmm          We Suck Young Blood   \n",
       "4  0htijg4vyYMkezwrLaUkkE  Cariño Santo - Version 1980   \n",
       "\n",
       "                    artists  duration_ms release_date  year  acousticness  \\\n",
       "0   ['Xzibit', 'Nate Dogg']       248107      10/1/02  2002        0.0285   \n",
       "1       ['Tropical Panamá']       173787       1/1/92  1992        0.2260   \n",
       "2                 ['Camel']       320387      4/15/75  1975        0.2530   \n",
       "3             ['Radiohead']       296707         2003  2003        0.8780   \n",
       "4  ['Los Baron De Apodaca']       214880       1/1/80  1980        0.5960   \n",
       "\n",
       "   danceability  energy  instrumentalness  ...  version_Remix  \\\n",
       "0         0.915   0.719          0.000000  ...              0   \n",
       "1         0.667   0.579          0.020200  ...              0   \n",
       "2         0.373   0.423          0.527000  ...              0   \n",
       "3         0.135   0.239          0.029200  ...              0   \n",
       "4         0.678   0.465          0.000012  ...              0   \n",
       "\n",
       "   version_type_encoded  decade  decade_range  energy_danceability_valence  \\\n",
       "0                     1    2000       90s-00s                     0.525650   \n",
       "1                     1    1990       90s-00s                     0.361863   \n",
       "2                     1    1970       70s-80s                     0.067056   \n",
       "3                     1    2000       90s-00s                     0.001220   \n",
       "4                     1    1980       70s-80s                     0.240866   \n",
       "\n",
       "   acoustic_intensity  popularity_energy_ratio  valence_energy_dif  \\\n",
       "0           -0.182714                58.413652              0.0800   \n",
       "1           -1.688446                70.810521              0.3580   \n",
       "2           -3.181981                85.104371              0.0020   \n",
       "3           -9.723850               192.460567             -0.2012   \n",
       "4           -3.349520                49.461302              0.2990   \n",
       "\n",
       "   decade_label  popularity_normalized  \n",
       "0             2              -0.480925  \n",
       "1             2              -0.587369  \n",
       "2             1              -0.002346  \n",
       "3             2              -0.055146  \n",
       "4             1              -1.191329  \n",
       "\n",
       "[5 rows x 35 columns]"
      ]
     },
     "execution_count": 50,
     "metadata": {},
     "output_type": "execute_result"
    }
   ],
   "source": [
    "df_test.head(5)"
   ]
  },
  {
   "cell_type": "code",
   "execution_count": 51,
   "metadata": {},
   "outputs": [
    {
     "name": "stdout",
     "output_type": "stream",
     "text": [
      "<class 'pandas.core.frame.DataFrame'>\n",
      "RangeIndex: 23990 entries, 0 to 23989\n",
      "Data columns (total 35 columns):\n",
      " #   Column                       Non-Null Count  Dtype  \n",
      "---  ------                       --------------  -----  \n",
      " 0   id                           23990 non-null  object \n",
      " 1   name                         23990 non-null  object \n",
      " 2   artists                      23990 non-null  object \n",
      " 3   duration_ms                  23990 non-null  int64  \n",
      " 4   release_date                 23990 non-null  object \n",
      " 5   year                         23990 non-null  int64  \n",
      " 6   acousticness                 23990 non-null  float64\n",
      " 7   danceability                 23990 non-null  float64\n",
      " 8   energy                       23990 non-null  float64\n",
      " 9   instrumentalness             23990 non-null  float64\n",
      " 10  liveness                     23990 non-null  float64\n",
      " 11  loudness                     23990 non-null  float64\n",
      " 12  speechiness                  23990 non-null  float64\n",
      " 13  tempo                        23990 non-null  float64\n",
      " 14  valence                      23990 non-null  float64\n",
      " 15  mode                         23990 non-null  int64  \n",
      " 16  key                          23990 non-null  int64  \n",
      " 17  popularity                   23990 non-null  int64  \n",
      " 18  explicit                     23990 non-null  int64  \n",
      " 19  artists_frequency            23990 non-null  int64  \n",
      " 20  version_type                 23990 non-null  object \n",
      " 21  base_name                    23990 non-null  object \n",
      " 22  version_Live                 23990 non-null  int64  \n",
      " 23  version_Original             23990 non-null  int64  \n",
      " 24  version_Remaster             23990 non-null  int64  \n",
      " 25  version_Remix                23990 non-null  int64  \n",
      " 26  version_type_encoded         23990 non-null  int64  \n",
      " 27  decade                       23990 non-null  int64  \n",
      " 28  decade_range                 23990 non-null  object \n",
      " 29  energy_danceability_valence  23990 non-null  float64\n",
      " 30  acoustic_intensity           23990 non-null  float64\n",
      " 31  popularity_energy_ratio      23990 non-null  float64\n",
      " 32  valence_energy_dif           23990 non-null  float64\n",
      " 33  decade_label                 23990 non-null  int64  \n",
      " 34  popularity_normalized        23990 non-null  float64\n",
      "dtypes: float64(14), int64(14), object(7)\n",
      "memory usage: 6.4+ MB\n"
     ]
    }
   ],
   "source": [
    "df_test.info()"
   ]
  },
  {
   "cell_type": "code",
   "execution_count": 52,
   "metadata": {},
   "outputs": [
    {
     "data": {
      "text/plain": [
       "Index(['id', 'name', 'artists', 'duration_ms', 'release_date', 'year',\n",
       "       'acousticness', 'danceability', 'energy', 'instrumentalness',\n",
       "       'liveness', 'loudness', 'speechiness', 'tempo', 'valence', 'mode',\n",
       "       'key', 'popularity', 'explicit', 'artists_frequency', 'version_type',\n",
       "       'base_name', 'version_Live', 'version_Original', 'version_Remaster',\n",
       "       'version_Remix', 'version_type_encoded', 'decade', 'decade_range',\n",
       "       'energy_danceability_valence', 'acoustic_intensity',\n",
       "       'popularity_energy_ratio', 'valence_energy_dif', 'decade_label',\n",
       "       'popularity_normalized'],\n",
       "      dtype='object')"
      ]
     },
     "execution_count": 52,
     "metadata": {},
     "output_type": "execute_result"
    }
   ],
   "source": [
    "df.columns"
   ]
  },
  {
   "cell_type": "markdown",
   "metadata": {},
   "source": [
    "------"
   ]
  },
  {
   "cell_type": "markdown",
   "metadata": {},
   "source": [
    "### DecisionTreeClassifier"
   ]
  },
  {
   "cell_type": "code",
   "execution_count": 53,
   "metadata": {},
   "outputs": [],
   "source": [
    "from sklearn.tree import DecisionTreeClassifier"
   ]
  },
  {
   "cell_type": "code",
   "execution_count": 54,
   "metadata": {},
   "outputs": [],
   "source": [
    "X_dt = df[['duration_ms', 'instrumentalness',\n",
    "       'liveness', 'speechiness', 'tempo', 'mode',\n",
    "       'key', 'energy_danceability_valence', 'acoustic_intensity',\n",
    "       'valence_energy_dif', 'popularity_normalized']]\n",
    "y_dt = df['decade_label']"
   ]
  },
  {
   "cell_type": "code",
   "execution_count": 55,
   "metadata": {},
   "outputs": [
    {
     "name": "stdout",
     "output_type": "stream",
     "text": [
      "Accuracy: 0.6810608725103234\n",
      "Precisión (Precision): 0.6811084577013263\n",
      "Sensibilidad (Recall): 0.6810201914543216\n",
      "F1-Score: 0.6807280821767087\n"
     ]
    }
   ],
   "source": [
    "X_train, X_test, y_train, y_test = train_test_split(X_dt, y_dt, train_size=0.2, random_state=42)\n",
    "model_dt = DecisionTreeClassifier(random_state=42)\n",
    "model_dt.fit(X_train, y_train)\n",
    "\n",
    "param_grid = {'max_depth': [5, 10, 15, None],\n",
    "              'min_samples_split': [2, 5, 10],\n",
    "              'min_samples_leaf': [1, 2, 4]}\n",
    "\n",
    "grid_search_dt = GridSearchCV(DecisionTreeClassifier(random_state=42), param_grid, cv=5, scoring='accuracy')\n",
    "grid_search_dt.fit(X_train, y_train)\n",
    "\n",
    "best_model_dt = grid_search_dt.best_estimator_\n",
    "y_pred_dt = best_model_dt.predict(X_test)\n",
    "accuracy_dt = accuracy_score(y_test, y_pred_dt)\n",
    "precision_dt = precision_score(y_test, y_pred_dt, average='macro')\n",
    "recall_dt = recall_score(y_test, y_pred_dt, average='macro')\n",
    "f1_dt = f1_score(y_test, y_pred_dt, average='macro')\n",
    "\n",
    "print(\"Accuracy:\", accuracy_dt)\n",
    "print(\"Precisión (Precision):\", precision_dt)\n",
    "print(\"Sensibilidad (Recall):\", recall_dt)\n",
    "print(\"F1-Score:\", f1_dt)\n"
   ]
  },
  {
   "cell_type": "code",
   "execution_count": 56,
   "metadata": {},
   "outputs": [
    {
     "name": "stdout",
     "output_type": "stream",
     "text": [
      "Scores de validación cruzada: [0.6689242  0.66492965 0.61985409 0.63652944 0.60291819]\n",
      "Media de scores: 0.6386311139031261\n"
     ]
    }
   ],
   "source": [
    "#Cross-Validation\n",
    "cv_scores_dt = cross_val_score(best_model_dt, X_train, y_train, cv=5, scoring='accuracy')\n",
    "print(\"Scores de validación cruzada:\", cv_scores_dt)\n",
    "print(\"Media de scores:\", cv_scores_dt.mean())"
   ]
  },
  {
   "cell_type": "markdown",
   "metadata": {},
   "source": [
    "#### Validación en datos no vistos"
   ]
  },
  {
   "cell_type": "code",
   "execution_count": 57,
   "metadata": {},
   "outputs": [],
   "source": [
    "X_dt_nuevo = df_test[['duration_ms', 'instrumentalness',\n",
    "       'liveness', 'speechiness', 'tempo', 'mode',\n",
    "       'key', 'energy_danceability_valence', 'acoustic_intensity',\n",
    "       'valence_energy_dif', 'popularity_normalized']]\n",
    "y_dt_nuevo = df_test['decade_label']"
   ]
  },
  {
   "cell_type": "code",
   "execution_count": 58,
   "metadata": {},
   "outputs": [
    {
     "name": "stdout",
     "output_type": "stream",
     "text": [
      "Rendimiento en datos no vistos:\n",
      "Accuracy: 0.683451438099208\n",
      "Precision: 0.6836298064447601\n",
      "Recall: 0.6834832603254068\n",
      "F1-Score: 0.6832502155459949\n"
     ]
    }
   ],
   "source": [
    "y_nuevos_dt_pred = best_model_dt.predict(X_dt_nuevo)\n",
    "accuracy = accuracy_score(y_dt_nuevo, y_nuevos_dt_pred)\n",
    "precision = precision_score(y_dt_nuevo, y_nuevos_dt_pred, average='macro')\n",
    "recall = recall_score(y_dt_nuevo, y_nuevos_dt_pred, average='macro')\n",
    "f1 = f1_score(y_dt_nuevo, y_nuevos_dt_pred, average='macro')\n",
    "\n",
    "print(\"Rendimiento en datos no vistos:\")\n",
    "print(\"Accuracy:\", accuracy)\n",
    "print(\"Precision:\", precision)\n",
    "print(\"Recall:\", recall)\n",
    "print(\"F1-Score:\", f1)"
   ]
  },
  {
   "cell_type": "code",
   "execution_count": 59,
   "metadata": {},
   "outputs": [
    {
     "name": "stdout",
     "output_type": "stream",
     "text": [
      "\n",
      "Reporte de clasificación:\n",
      "              precision    recall  f1-score   support\n",
      "\n",
      "           0       0.73      0.76      0.74      7990\n",
      "           1       0.61      0.62      0.62      8000\n",
      "           2       0.71      0.67      0.69      8000\n",
      "\n",
      "    accuracy                           0.68     23990\n",
      "   macro avg       0.68      0.68      0.68     23990\n",
      "weighted avg       0.68      0.68      0.68     23990\n",
      "\n"
     ]
    }
   ],
   "source": [
    "#Classification Report\n",
    "print(\"\\nReporte de clasificación:\")\n",
    "print(classification_report(y_dt_nuevo, y_nuevos_dt_pred))"
   ]
  },
  {
   "cell_type": "code",
   "execution_count": 60,
   "metadata": {},
   "outputs": [
    {
     "data": {
      "image/png": "[encoded data removed]",
      "text/plain": [
       "<Figure size 600x400 with 2 Axes>"
      ]
     },
     "metadata": {},
     "output_type": "display_data"
    }
   ],
   "source": [
    "#Confusion Matrix\n",
    "conf_matrix_dt = confusion_matrix(y_dt_nuevo, y_nuevos_dt_pred)\n",
    "plt.figure(figsize=(6, 4))\n",
    "sns.heatmap(conf_matrix_dt, annot=True, fmt='d', cmap='Blues', xticklabels=best_model_dt.classes_, yticklabels=best_model_dt.classes_)\n",
    "plt.title('Matriz de Confusión - Decision Tree')\n",
    "plt.xlabel('Predicción')\n",
    "plt.ylabel('Valor Real')\n",
    "plt.show()"
   ]
  },
  {
   "cell_type": "code",
   "execution_count": 61,
   "metadata": {},
   "outputs": [
    {
     "name": "stdout",
     "output_type": "stream",
     "text": [
      "Probabilidades para las primeras 5 observaciones:\n",
      "[[0.  0.  1. ]\n",
      " [0.  0.  1. ]\n",
      " [0.  1.  0. ]\n",
      " [0.5 0.5 0. ]\n",
      " [0.  1.  0. ]]\n"
     ]
    }
   ],
   "source": [
    "#Predict Proba\n",
    "y_pred_proba_dt = best_model_dt.predict_proba(X_dt_nuevo)\n",
    "\n",
    "#Ejemplo de probabilidades para las primeras 5 observaciones\n",
    "print(\"Probabilidades para las primeras 5 observaciones:\")\n",
    "print(y_pred_proba_dt[:5])\n"
   ]
  },
  {
   "cell_type": "markdown",
   "metadata": {},
   "source": [
    "------"
   ]
  },
  {
   "cell_type": "markdown",
   "metadata": {},
   "source": [
    "### RandomForestClassifier"
   ]
  },
  {
   "cell_type": "code",
   "execution_count": 89,
   "metadata": {},
   "outputs": [],
   "source": [
    "from sklearn.ensemble import RandomForestClassifier"
   ]
  },
  {
   "cell_type": "code",
   "execution_count": 90,
   "metadata": {},
   "outputs": [],
   "source": [
    "X_rf = df[['duration_ms', 'acousticness', 'danceability', 'energy', 'instrumentalness',\n",
    "       'liveness', 'loudness', 'speechiness', 'tempo', 'valence', 'mode',\n",
    "       'key', 'version_type_encoded', 'energy_danceability_valence', 'acoustic_intensity',\n",
    "       'popularity_energy_ratio', 'valence_energy_dif',\n",
    "       'popularity_normalized']]\n",
    "y_rf = df['decade_label']"
   ]
  },
  {
   "cell_type": "code",
   "execution_count": 91,
   "metadata": {},
   "outputs": [
    {
     "data": {
      "text/html": [
       "<div>\n",
       "<style scoped>\n",
       "    .dataframe tbody tr th:only-of-type {\n",
       "        vertical-align: middle;\n",
       "    }\n",
       "\n",
       "    .dataframe tbody tr th {\n",
       "        vertical-align: top;\n",
       "    }\n",
       "\n",
       "    .dataframe thead th {\n",
       "        text-align: right;\n",
       "    }\n",
       "</style>\n",
       "<table border=\"1\" class=\"dataframe\">\n",
       "  <thead>\n",
       "    <tr style=\"text-align: right;\">\n",
       "      <th></th>\n",
       "      <th>Feature</th>\n",
       "      <th>Importance</th>\n",
       "    </tr>\n",
       "  </thead>\n",
       "  <tbody>\n",
       "    <tr>\n",
       "      <th>15</th>\n",
       "      <td>popularity_energy_ratio</td>\n",
       "      <td>0.224843</td>\n",
       "    </tr>\n",
       "    <tr>\n",
       "      <th>17</th>\n",
       "      <td>popularity_normalized</td>\n",
       "      <td>0.154620</td>\n",
       "    </tr>\n",
       "    <tr>\n",
       "      <th>3</th>\n",
       "      <td>energy</td>\n",
       "      <td>0.083715</td>\n",
       "    </tr>\n",
       "    <tr>\n",
       "      <th>1</th>\n",
       "      <td>acousticness</td>\n",
       "      <td>0.082781</td>\n",
       "    </tr>\n",
       "    <tr>\n",
       "      <th>6</th>\n",
       "      <td>loudness</td>\n",
       "      <td>0.077048</td>\n",
       "    </tr>\n",
       "    <tr>\n",
       "      <th>14</th>\n",
       "      <td>acoustic_intensity</td>\n",
       "      <td>0.072058</td>\n",
       "    </tr>\n",
       "    <tr>\n",
       "      <th>0</th>\n",
       "      <td>duration_ms</td>\n",
       "      <td>0.053797</td>\n",
       "    </tr>\n",
       "    <tr>\n",
       "      <th>16</th>\n",
       "      <td>valence_energy_dif</td>\n",
       "      <td>0.040435</td>\n",
       "    </tr>\n",
       "    <tr>\n",
       "      <th>13</th>\n",
       "      <td>energy_danceability_valence</td>\n",
       "      <td>0.034707</td>\n",
       "    </tr>\n",
       "    <tr>\n",
       "      <th>2</th>\n",
       "      <td>danceability</td>\n",
       "      <td>0.030168</td>\n",
       "    </tr>\n",
       "    <tr>\n",
       "      <th>7</th>\n",
       "      <td>speechiness</td>\n",
       "      <td>0.029460</td>\n",
       "    </tr>\n",
       "    <tr>\n",
       "      <th>4</th>\n",
       "      <td>instrumentalness</td>\n",
       "      <td>0.026676</td>\n",
       "    </tr>\n",
       "    <tr>\n",
       "      <th>9</th>\n",
       "      <td>valence</td>\n",
       "      <td>0.025151</td>\n",
       "    </tr>\n",
       "    <tr>\n",
       "      <th>8</th>\n",
       "      <td>tempo</td>\n",
       "      <td>0.023471</td>\n",
       "    </tr>\n",
       "    <tr>\n",
       "      <th>5</th>\n",
       "      <td>liveness</td>\n",
       "      <td>0.021803</td>\n",
       "    </tr>\n",
       "    <tr>\n",
       "      <th>11</th>\n",
       "      <td>key</td>\n",
       "      <td>0.012030</td>\n",
       "    </tr>\n",
       "    <tr>\n",
       "      <th>12</th>\n",
       "      <td>version_type_encoded</td>\n",
       "      <td>0.004358</td>\n",
       "    </tr>\n",
       "    <tr>\n",
       "      <th>10</th>\n",
       "      <td>mode</td>\n",
       "      <td>0.002878</td>\n",
       "    </tr>\n",
       "  </tbody>\n",
       "</table>\n",
       "</div>"
      ],
      "text/plain": [
       "                        Feature  Importance\n",
       "15      popularity_energy_ratio    0.224843\n",
       "17        popularity_normalized    0.154620\n",
       "3                        energy    0.083715\n",
       "1                  acousticness    0.082781\n",
       "6                      loudness    0.077048\n",
       "14           acoustic_intensity    0.072058\n",
       "0                   duration_ms    0.053797\n",
       "16           valence_energy_dif    0.040435\n",
       "13  energy_danceability_valence    0.034707\n",
       "2                  danceability    0.030168\n",
       "7                   speechiness    0.029460\n",
       "4              instrumentalness    0.026676\n",
       "9                       valence    0.025151\n",
       "8                         tempo    0.023471\n",
       "5                      liveness    0.021803\n",
       "11                          key    0.012030\n",
       "12         version_type_encoded    0.004358\n",
       "10                         mode    0.002878"
      ]
     },
     "execution_count": 91,
     "metadata": {},
     "output_type": "execute_result"
    }
   ],
   "source": [
    "X_train, X_test, y_train, y_test = train_test_split(X_rf, y_rf, test_size=0.2, random_state=42)\n",
    "\n",
    "model_rf = RandomForestClassifier(random_state=42)\n",
    "model_rf.fit(X_train, y_train)\n",
    "\n",
    "importances = model_rf.feature_importances_\n",
    "importance_rf = pd.DataFrame({'Feature': X_rf.columns, 'Importance': importances})\n",
    "importance_rf = importance_rf.sort_values(by='Importance', ascending=False)\n",
    "\n",
    "top_features = importance_rf.head(10)['Feature'].values\n",
    "X_train_top = X_train[top_features]\n",
    "X_test_top = X_test[top_features]\n",
    "\n",
    "importance_rf"
   ]
  },
  {
   "cell_type": "code",
   "execution_count": 92,
   "metadata": {},
   "outputs": [],
   "source": [
    "X_filtered_rf = df[['duration_ms', 'acousticness', 'danceability', 'energy',\n",
    "                 'loudness', 'popularity_normalized']]\n",
    "y_rf = df['decade_label']"
   ]
  },
  {
   "cell_type": "code",
   "execution_count": 93,
   "metadata": {},
   "outputs": [
    {
     "name": "stdout",
     "output_type": "stream",
     "text": [
      "Accuracy: 0.7155585660691955\n",
      "Precisión (Precision): 0.7143357337480377\n",
      "Sensibilidad (Recall): 0.715004720389678\n",
      "F1-Score: 0.7121594077213032\n"
     ]
    }
   ],
   "source": [
    "X_train_filtered, X_test_filtered, y_train_filtered, y_test_filtered = train_test_split(X_filtered_rf, y_rf, test_size=0.2, random_state=42)\n",
    "\n",
    "model_filtered_rf = RandomForestClassifier(random_state=42)\n",
    "model_filtered_rf.fit(X_train_filtered, y_train_filtered)\n",
    "\n",
    "y_pred_filtered_rf = model_filtered_rf.predict(X_test_filtered)\n",
    "\n",
    "accuracy_rf = accuracy_score(y_test_filtered, y_pred_filtered_rf)\n",
    "precision_rf = precision_score(y_test_filtered, y_pred_filtered_rf, average='macro')\n",
    "recall_rf = recall_score(y_test_filtered, y_pred_filtered_rf, average='macro')\n",
    "f1_rf = f1_score(y_test_filtered, y_pred_filtered_rf, average='macro')\n",
    "\n",
    "print(\"Accuracy:\", accuracy_rf)\n",
    "print(\"Precisión (Precision):\", precision_rf)\n",
    "print(\"Sensibilidad (Recall):\", recall_rf)\n",
    "print(\"F1-Score:\", f1_rf)"
   ]
  },
  {
   "cell_type": "code",
   "execution_count": 85,
   "metadata": {},
   "outputs": [
    {
     "name": "stdout",
     "output_type": "stream",
     "text": [
      "Scores de validación cruzada: [0.70724241 0.71282486 0.7100241  0.70657201 0.71347619]\n",
      "Media de scores: 0.7100279132102859\n"
     ]
    }
   ],
   "source": [
    "#Cross-Validation\n",
    "cv_scores_rf = cross_val_score(model_filtered_rf, X_train_filtered, y_train_filtered, cv=5, scoring='accuracy')\n",
    "print(\"Scores de validación cruzada:\", cv_scores_rf)\n",
    "print(\"Media de scores:\", cv_scores_rf.mean())"
   ]
  },
  {
   "cell_type": "markdown",
   "metadata": {},
   "source": [
    "#### Validación en datos no vistos"
   ]
  },
  {
   "cell_type": "code",
   "execution_count": 94,
   "metadata": {},
   "outputs": [
    {
     "name": "stdout",
     "output_type": "stream",
     "text": [
      "Rendimiento en datos no vistos:\n",
      "Accuracy: 0.7192163401417258\n",
      "Precision: 0.7184303709583912\n",
      "Recall: 0.7192696078431372\n",
      "F1-Score: 0.7167345638408529\n"
     ]
    }
   ],
   "source": [
    "X_rf_nuevo = df_test[['duration_ms', 'acousticness', 'danceability', 'energy',\n",
    "                 'loudness', 'popularity_normalized']]\n",
    "y_rf_nuevo = df_test['decade_label']\n",
    "\n",
    "y_nuevos_rf_pred = model_filtered_rf.predict(X_rf_nuevo)\n",
    "accuracy = accuracy_score(y_rf_nuevo, y_nuevos_rf_pred)\n",
    "precision = precision_score(y_rf_nuevo, y_nuevos_rf_pred, average='macro')\n",
    "recall = recall_score(y_rf_nuevo, y_nuevos_rf_pred, average='macro')\n",
    "f1 = f1_score(y_rf_nuevo, y_nuevos_rf_pred, average='macro')\n",
    "\n",
    "print(\"Rendimiento en datos no vistos:\")\n",
    "print(\"Accuracy:\", accuracy)\n",
    "print(\"Precision:\", precision)\n",
    "print(\"Recall:\", recall)\n",
    "print(\"F1-Score:\", f1)"
   ]
  },
  {
   "cell_type": "code",
   "execution_count": 69,
   "metadata": {},
   "outputs": [
    {
     "name": "stdout",
     "output_type": "stream",
     "text": [
      "\n",
      "Reporte de clasificación:\n",
      "              precision    recall  f1-score   support\n",
      "\n",
      "           0       0.73      0.85      0.79      7990\n",
      "           1       0.67      0.64      0.65      8000\n",
      "           2       0.75      0.68      0.71      8000\n",
      "\n",
      "    accuracy                           0.72     23990\n",
      "   macro avg       0.72      0.72      0.72     23990\n",
      "weighted avg       0.72      0.72      0.72     23990\n",
      "\n"
     ]
    }
   ],
   "source": [
    "#Classification Report\n",
    "print(\"\\nReporte de clasificación:\")\n",
    "print(classification_report(y_rf_nuevo, y_nuevos_rf_pred))"
   ]
  },
  {
   "cell_type": "code",
   "execution_count": 95,
   "metadata": {},
   "outputs": [
    {
     "data": {
      "image/png": "[encoded data removed]",
      "text/plain": [
       "<Figure size 600x400 with 2 Axes>"
      ]
     },
     "metadata": {},
     "output_type": "display_data"
    }
   ],
   "source": [
    "#Confusion Matrix\n",
    "conf_matrix_rf = confusion_matrix(y_rf_nuevo, y_nuevos_rf_pred)\n",
    "plt.figure(figsize=(6, 4))\n",
    "sns.heatmap(conf_matrix_rf, annot=True, fmt='d', cmap='Blues', xticklabels=model_filtered_rf.classes_, yticklabels=model_filtered_rf.classes_)\n",
    "plt.title('Matriz de Confusión - RandomForestClassifier')\n",
    "plt.xlabel('Predicción')\n",
    "plt.ylabel('Valor Real')\n",
    "plt.show()"
   ]
  },
  {
   "cell_type": "code",
   "execution_count": 96,
   "metadata": {},
   "outputs": [
    {
     "name": "stdout",
     "output_type": "stream",
     "text": [
      "Probabilidades para las primeras 5 observaciones:\n",
      "[[0.   0.09 0.91]\n",
      " [0.06 0.26 0.68]\n",
      " [0.07 0.77 0.16]\n",
      " [0.41 0.2  0.39]\n",
      " [0.07 0.34 0.59]]\n"
     ]
    }
   ],
   "source": [
    "#Predict Proba\n",
    "y_pred_proba_rf = model_filtered_rf.predict_proba(X_rf_nuevo)\n",
    "\n",
    "#Ejemplo de probabilidades para las primeras 5 observaciones\n",
    "print(\"Probabilidades para las primeras 5 observaciones:\")\n",
    "print(y_pred_proba_rf[:5])"
   ]
  },
  {
   "cell_type": "markdown",
   "metadata": {},
   "source": [
    "------"
   ]
  },
  {
   "cell_type": "markdown",
   "metadata": {},
   "source": [
    "### XGBoost"
   ]
  },
  {
   "cell_type": "code",
   "execution_count": 101,
   "metadata": {},
   "outputs": [],
   "source": [
    "from xgboost import XGBClassifier"
   ]
  },
  {
   "cell_type": "code",
   "execution_count": 102,
   "metadata": {},
   "outputs": [
    {
     "name": "stdout",
     "output_type": "stream",
     "text": [
      "(95958, 10)\n",
      "(76766, 10)\n",
      "(19192, 10)\n",
      "(76766,)\n",
      "(19192,)\n",
      "Accuracy: 0.9950500208420175\n",
      "Precisión (Precision): 0.9950476807747467\n",
      "Sensibilidad (Recall): 0.9950545454231823\n",
      "F1-Score: 0.9950506571199323\n"
     ]
    }
   ],
   "source": [
    "#Variables seleccionadas tras haber aplicado feature importances\n",
    "X_xgb = df[['duration_ms', 'acousticness', 'danceability', 'energy', 'instrumentalness',\n",
    "          'loudness', 'speechiness', 'valence', 'tempo', 'popularity_normalized']]\n",
    "y_xgb = df['decade_label']\n",
    "\n",
    "X_train, X_test, y_train, y_test = train_test_split(X_xgb, y_xgb, test_size=0.2, random_state=42)\n",
    "model_xgb = XGBClassifier(random_state=42)\n",
    "model_xgb.fit(X_train, y_train)\n",
    "\n",
    "print(X_xgb.shape)\n",
    "print(X_train.shape)\n",
    "print(X_test.shape)\n",
    "print(y_train.shape)\n",
    "print(y_test.shape)\n",
    "\n",
    "y_pred_xgb = model_xgb.predict(X_test)\n",
    "accuracy_xgb = accuracy_score(y_test, y_pred_xgb)\n",
    "precision_xgb = precision_score(y_test, y_pred_xgb, average='macro')\n",
    "recall_xgb = recall_score(y_test, y_pred_xgb, average='macro')\n",
    "f1_xgb = f1_score(y_test, y_pred_xgb, average='macro')\n",
    "\n",
    "print(\"Accuracy:\", accuracy_xgb)\n",
    "print(\"Precisión (Precision):\", precision_xgb)\n",
    "print(\"Sensibilidad (Recall):\", recall_xgb)\n",
    "print(\"F1-Score:\", f1_xgb)"
   ]
  },
  {
   "cell_type": "code",
   "execution_count": 103,
   "metadata": {},
   "outputs": [
    {
     "name": "stdout",
     "output_type": "stream",
     "text": [
      "Scores de validación cruzada: [0.99505015 0.99628737 0.9957663  0.99667817 0.99589657]\n",
      "Media de scores: 0.995935712236699\n"
     ]
    }
   ],
   "source": [
    "#Cross-Validation\n",
    "cv_scores_xgb = cross_val_score(model_xgb, X_train, y_train, cv=5, scoring='accuracy')\n",
    "print(\"Scores de validación cruzada:\", cv_scores_xgb)\n",
    "print(\"Media de scores:\", cv_scores_xgb.mean())"
   ]
  },
  {
   "cell_type": "code",
   "execution_count": 100,
   "metadata": {},
   "outputs": [
    {
     "data": {
      "image/png": "[encoded data removed]",
      "text/plain": [
       "<Figure size 640x480 with 1 Axes>"
      ]
     },
     "metadata": {},
     "output_type": "display_data"
    }
   ],
   "source": [
    "from sklearn.model_selection import learning_curve\n",
    "\n",
    "train_sizes, train_scores, test_scores = learning_curve(model_xgb, X_xgb, y_xgb, cv=5, scoring='accuracy', n_jobs=-1, train_sizes=np.linspace(0.1, 1.0, 10))\n",
    "\n",
    "train_mean = np.mean(train_scores, axis=1)\n",
    "test_mean = np.mean(test_scores, axis=1)\n",
    "\n",
    "plt.plot(train_sizes, train_mean, label=\"Entrenamiento\", color=\"blue\")\n",
    "plt.plot(train_sizes, test_mean, label=\"Validación\", color=\"orange\")\n",
    "plt.title(\"Curvas de aprendizaje\")\n",
    "plt.xlabel(\"Tamaño del conjunto de entrenamiento\")\n",
    "plt.ylabel(\"Accuracy\")\n",
    "plt.legend()\n",
    "plt.show()"
   ]
  },
  {
   "cell_type": "code",
   "execution_count": 74,
   "metadata": {},
   "outputs": [
    {
     "name": "stdout",
     "output_type": "stream",
     "text": [
      "Mejores hiperparámetros: {'learning_rate': 0.1, 'max_depth': 5, 'n_estimators': 100, 'reg_alpha': 1, 'reg_lambda': 1}\n",
      "Accuracy en prueba: 0.8861099170216369\n"
     ]
    }
   ],
   "source": [
    "param_grid = {\n",
    "    'reg_alpha': [0, 0.1, 1, 10],\n",
    "    'reg_lambda': [1, 10, 100],\n",
    "    'max_depth': [3, 5],\n",
    "    'learning_rate': [0.05, 0.1],\n",
    "    'n_estimators': [50, 100]}\n",
    "\n",
    "model_xgb_2 = XGBClassifier(random_state=42)\n",
    "\n",
    "\n",
    "grid_search_xgb = GridSearchCV(estimator=model_xgb_2, param_grid=param_grid, scoring='accuracy', cv=3)\n",
    "grid_search_xgb.fit(X_train, y_train)\n",
    "\n",
    "print(\"Mejores hiperparámetros:\", grid_search_xgb.best_params_)\n",
    "\n",
    "best_model_xgb = grid_search_xgb.best_estimator_\n",
    "y_pred = best_model_xgb.predict(X_test)\n",
    "\n",
    "\n",
    "print(\"Accuracy en prueba:\", accuracy_score(y_test, y_pred))"
   ]
  },
  {
   "cell_type": "markdown",
   "metadata": {},
   "source": [
    "<mark>**Conclusiones:**</mark>\n",
    "\n",
    "- **Balance entre simplicidad y precisión:** Aunque el accuracy no es tan alto como en el modelo no hiperparametrizado, este modelo es más robusto debido a la regularización aplicada. Es menos probable que el modelo hiperparametrizado dependa excesivamente de características específicas o sesgadas.\n",
    "\n",
    "- **Menor riesgo de sobreajuste:** La hiperparametrización y regularización aseguran que el modelo generalice bien a datos nuevos. Este modelo puede ser más confiable cuando se introducen canciones con métricas atípicas o distribuciones diferentes.\n",
    "\n",
    "- **Compromiso con la complejidad:** Es posible que el modelo esté sacrificando un poco de precisión para garantizar generalización."
   ]
  },
  {
   "cell_type": "markdown",
   "metadata": {},
   "source": [
    "#### Evaluación en datos no vistos"
   ]
  },
  {
   "cell_type": "code",
   "execution_count": 75,
   "metadata": {},
   "outputs": [
    {
     "name": "stdout",
     "output_type": "stream",
     "text": [
      "Rencimiento en datos no vistos:\n",
      "Accuracy: 0.8856606919549812\n",
      "Precision: 0.8873316834882026\n",
      "Recall: 0.8856699520233625\n",
      "F1-Score: 0.8858937536760281\n"
     ]
    }
   ],
   "source": [
    "X_xgb_nuevo = df_test[['duration_ms', 'acousticness', 'danceability', 'energy', 'instrumentalness',\n",
    "          'loudness', 'speechiness', 'valence', 'tempo', 'popularity_normalized']]\n",
    "y_xgb_nuevo = df_test['decade_label']\n",
    "\n",
    "y_nuevos_pred_xgb = best_model_xgb.predict(X_xgb_nuevo)\n",
    "\n",
    "accuracy_xgb_nuevo = accuracy_score(y_xgb_nuevo, y_nuevos_pred_xgb)\n",
    "precision_xgb_nuevo = precision_score(y_xgb_nuevo, y_nuevos_pred_xgb, average='macro')\n",
    "recall_xgb_nuevo = recall_score(y_xgb_nuevo, y_nuevos_pred_xgb, average='macro')\n",
    "f1_xgb_nuevo = f1_score(y_xgb_nuevo, y_nuevos_pred_xgb, average='macro')\n",
    "\n",
    "print(\"Rencimiento en datos no vistos:\")\n",
    "print(\"Accuracy:\", accuracy_xgb_nuevo)\n",
    "print(\"Precision:\", precision_xgb_nuevo)\n",
    "print(\"Recall:\", recall_xgb_nuevo)\n",
    "print(\"F1-Score:\", f1_xgb_nuevo)"
   ]
  },
  {
   "cell_type": "code",
   "execution_count": 76,
   "metadata": {},
   "outputs": [
    {
     "name": "stdout",
     "output_type": "stream",
     "text": [
      "\n",
      "Reporte de clasificación:\n",
      "              precision    recall  f1-score   support\n",
      "\n",
      "           0       0.85      0.91      0.88      7990\n",
      "           1       0.89      0.87      0.88      8000\n",
      "           2       0.93      0.88      0.90      8000\n",
      "\n",
      "    accuracy                           0.89     23990\n",
      "   macro avg       0.89      0.89      0.89     23990\n",
      "weighted avg       0.89      0.89      0.89     23990\n",
      "\n"
     ]
    }
   ],
   "source": [
    "#Classification Report\n",
    "print(\"\\nReporte de clasificación:\")\n",
    "print(classification_report(y_xgb_nuevo, y_nuevos_pred_xgb))"
   ]
  },
  {
   "cell_type": "code",
   "execution_count": 77,
   "metadata": {},
   "outputs": [
    {
     "data": {
      "image/png": "[encoded data removed]",
      "text/plain": [
       "<Figure size 600x400 with 2 Axes>"
      ]
     },
     "metadata": {},
     "output_type": "display_data"
    }
   ],
   "source": [
    "#Confusion Matrix\n",
    "conf_matrix_xgb = confusion_matrix(y_xgb_nuevo, y_nuevos_pred_xgb)\n",
    "plt.figure(figsize=(6, 4))\n",
    "sns.heatmap(conf_matrix_xgb, annot=True, fmt='d', cmap='Blues', xticklabels=best_model_xgb.classes_, yticklabels=best_model_xgb.classes_)\n",
    "plt.title('Matriz de Confusión - XGBoost')\n",
    "plt.xlabel('Predicción')\n",
    "plt.ylabel('Valor Real')\n",
    "plt.show()"
   ]
  },
  {
   "cell_type": "code",
   "execution_count": 78,
   "metadata": {},
   "outputs": [
    {
     "name": "stdout",
     "output_type": "stream",
     "text": [
      "Probabilidades para las primeras 5 observaciones:\n",
      "[[0.00204248 0.01971069 0.9782468 ]\n",
      " [0.03416822 0.12499619 0.8408356 ]\n",
      " [0.06387339 0.90163887 0.03448773]\n",
      " [0.32837    0.08237345 0.5892565 ]\n",
      " [0.01589487 0.49142948 0.49267566]]\n"
     ]
    }
   ],
   "source": [
    "#Predict Proba\n",
    "y_pred_proba_xgb = best_model_xgb.predict_proba(X_xgb_nuevo)\n",
    "\n",
    "#Ejemplo de probabilidades para las primeras 5 observaciones\n",
    "print(\"Probabilidades para las primeras 5 observaciones:\")\n",
    "print(y_pred_proba_xgb[:5])"
   ]
  },
  {
   "cell_type": "markdown",
   "metadata": {},
   "source": [
    "------"
   ]
  },
  {
   "cell_type": "markdown",
   "metadata": {},
   "source": [
    "### SVM"
   ]
  },
  {
   "cell_type": "code",
   "execution_count": 113,
   "metadata": {},
   "outputs": [],
   "source": [
    "from sklearn.svm import SVC"
   ]
  },
  {
   "cell_type": "code",
   "execution_count": 114,
   "metadata": {},
   "outputs": [],
   "source": [
    "#Debido a los tiempos de carga de este modelo se procedió a seleccionar una muestra de los datos.\n",
    "sample_size = 20000\n",
    "df_sample_svn = df.sample(n=sample_size, random_state=42)\n",
    "\n",
    "X_svn = df_sample_svn[['duration_ms', 'acousticness', 'danceability', 'energy', 'instrumentalness',\n",
    "       'liveness', 'loudness', 'speechiness', 'tempo', 'valence', 'mode',\n",
    "       'key', 'popularity', 'explicit', 'artists_frequency',\n",
    "       'version_Live', 'version_Original', 'version_Remaster',\n",
    "       'version_Remix', 'energy_danceability_valence', 'acoustic_intensity',\n",
    "       'popularity_energy_ratio', 'valence_energy_dif', 'popularity_normalized']]\n",
    "y_svn = df_sample_svn['decade_label']"
   ]
  },
  {
   "cell_type": "code",
   "execution_count": 115,
   "metadata": {},
   "outputs": [
    {
     "name": "stdout",
     "output_type": "stream",
     "text": [
      "Número de outliers por columna:\n",
      "instrumentalness               4286\n",
      "speechiness                    2545\n",
      "artists_frequency              2038\n",
      "popularity_energy_ratio        1816\n",
      "version_Original               1569\n",
      "liveness                       1465\n",
      "explicit                        965\n",
      "duration_ms                     957\n",
      "version_Remaster                767\n",
      "version_Live                    715\n",
      "loudness                        515\n",
      "acoustic_intensity              390\n",
      "valence_energy_dif              339\n",
      "popularity_normalized           327\n",
      "tempo                           187\n",
      "energy_danceability_valence     121\n",
      "version_Remix                    87\n",
      "popularity                        8\n",
      "danceability                      8\n",
      "energy                            0\n",
      "acousticness                      0\n",
      "mode                              0\n",
      "key                               0\n",
      "valence                           0\n",
      "dtype: int64\n",
      "\n",
      "Porcentaje de outliers por columna:\n",
      "instrumentalness               21.430\n",
      "speechiness                    12.725\n",
      "artists_frequency              10.190\n",
      "popularity_energy_ratio         9.080\n",
      "version_Original                7.845\n",
      "liveness                        7.325\n",
      "explicit                        4.825\n",
      "duration_ms                     4.785\n",
      "version_Remaster                3.835\n",
      "version_Live                    3.575\n",
      "loudness                        2.575\n",
      "acoustic_intensity              1.950\n",
      "valence_energy_dif              1.695\n",
      "popularity_normalized           1.635\n",
      "tempo                           0.935\n",
      "energy_danceability_valence     0.605\n",
      "version_Remix                   0.435\n",
      "popularity                      0.040\n",
      "danceability                    0.040\n",
      "energy                          0.000\n",
      "acousticness                    0.000\n",
      "mode                            0.000\n",
      "key                             0.000\n",
      "valence                         0.000\n",
      "dtype: float64\n"
     ]
    }
   ],
   "source": [
    "# Cálculo de outliers\n",
    "Q1 = X_svn.quantile(0.25)\n",
    "Q3 = X_svn.quantile(0.75)\n",
    "IQR = Q3 - Q1\n",
    "\n",
    "outlier_mask = (X_svn < (Q1 - 1.5 * IQR)) | (X_svn > (Q3 + 1.5 * IQR))\n",
    "\n",
    "print(\"Número de outliers por columna:\")\n",
    "print(outlier_mask.sum().sort_values(ascending=False))\n",
    "\n",
    "\n",
    "print(\"\\nPorcentaje de outliers por columna:\")\n",
    "print(((outlier_mask.sum() / len(X_svn)) * 100).sort_values(ascending=False))"
   ]
  },
  {
   "cell_type": "code",
   "execution_count": 116,
   "metadata": {},
   "outputs": [
    {
     "name": "stdout",
     "output_type": "stream",
     "text": [
      "(20000, 24)\n",
      "(16000, 24)\n",
      "(4000, 24)\n",
      "(16000,)\n",
      "(4000,)\n",
      "Features seleccionadas con SelectKBest Index(['duration_ms', 'acousticness', 'danceability', 'energy',\n",
      "       'instrumentalness', 'loudness', 'tempo', 'valence', 'popularity',\n",
      "       'explicit', 'artists_frequency', 'energy_danceability_valence',\n",
      "       'acoustic_intensity', 'valence_energy_dif'],\n",
      "      dtype='object')\n",
      "Accuracy: 0.76925\n",
      "Precision: 0.7711815541179883\n",
      "Recall: 0.7701532596565661\n",
      "F1-Score: 0.7702906089051281\n"
     ]
    }
   ],
   "source": [
    "X_scaled_svn = X_svn.copy()\n",
    "scaler = StandardScaler()\n",
    "X_scaled_svn = scaler.fit_transform(X_scaled_svn)\n",
    "X_scaled_svn = pd.DataFrame(X_scaled_svn, columns=X_svn.columns)\n",
    "\n",
    "X_train, X_test, y_train, y_test = train_test_split(X_scaled_svn, y_svn, test_size=0.2, random_state=42)\n",
    "\n",
    "print(X_svn.shape)\n",
    "print(X_train.shape)\n",
    "print(X_test.shape)\n",
    "print(y_train.shape)\n",
    "print(y_test.shape)\n",
    "\n",
    "k = 14\n",
    "selector = SelectKBest(score_func=f_classif, k=k)\n",
    "\n",
    "X_train_scaled_selected_svm = selector.fit_transform(X_train, y_train)\n",
    "X_test_scaled_selected_svm = selector.transform(X_test)\n",
    "selected_features = X_svn.columns[selector.get_support()]\n",
    "print(f\"Features seleccionadas con SelectKBest {selected_features}\")\n",
    "\n",
    "\n",
    "svm_model_5 = SVC(kernel='rbf', random_state=42, max_iter=20000)\n",
    "svm_model_5.fit(X_train_scaled_selected_svm, y_train)\n",
    "\n",
    "y_pred_5 = svm_model_5.predict(X_test_scaled_selected_svm)\n",
    "\n",
    "accuracy_5 = accuracy_score(y_test, y_pred_5)\n",
    "precision_5 = precision_score(y_test, y_pred_5, average='macro')\n",
    "recall_5 = recall_score(y_test, y_pred_5, average='macro')\n",
    "f1_5 = f1_score(y_test, y_pred_5, average='macro')\n",
    "\n",
    "print(\"Accuracy:\", accuracy_5)\n",
    "print(\"Precision:\", precision_5)\n",
    "print(\"Recall:\", recall_5)\n",
    "print(\"F1-Score:\", f1_5)"
   ]
  },
  {
   "cell_type": "code",
   "execution_count": null,
   "metadata": {},
   "outputs": [
    {
     "name": "stdout",
     "output_type": "stream",
     "text": [
      "Fitting 3 folds for each of 9 candidates, totalling 27 fits\n"
     ]
    },
    {
     "name": "stderr",
     "output_type": "stream",
     "text": [
      "c:\\Users\\Propietario\\AppData\\Local\\Programs\\Python\\Python312\\Lib\\site-packages\\sklearn\\svm\\_base.py:297: ConvergenceWarning: Solver terminated early (max_iter=20000).  Consider pre-processing your data with StandardScaler or MinMaxScaler.\n",
      "  warnings.warn(\n",
      "c:\\Users\\Propietario\\AppData\\Local\\Programs\\Python\\Python312\\Lib\\site-packages\\sklearn\\svm\\_base.py:297: ConvergenceWarning: Solver terminated early (max_iter=20000).  Consider pre-processing your data with StandardScaler or MinMaxScaler.\n",
      "  warnings.warn(\n",
      "c:\\Users\\Propietario\\AppData\\Local\\Programs\\Python\\Python312\\Lib\\site-packages\\sklearn\\svm\\_base.py:297: ConvergenceWarning: Solver terminated early (max_iter=20000).  Consider pre-processing your data with StandardScaler or MinMaxScaler.\n",
      "  warnings.warn(\n"
     ]
    },
    {
     "data": {
      "text/html": [
       "<style>#sk-container-id-1 {\n",
       "  /* Definition of color scheme common for light and dark mode */\n",
       "  --sklearn-color-text: black;\n",
       "  --sklearn-color-line: gray;\n",
       "  /* Definition of color scheme for unfitted estimators */\n",
       "  --sklearn-color-unfitted-level-0: #fff5e6;\n",
       "  --sklearn-color-unfitted-level-1: #f6e4d2;\n",
       "  --sklearn-color-unfitted-level-2: #ffe0b3;\n",
       "  --sklearn-color-unfitted-level-3: chocolate;\n",
       "  /* Definition of color scheme for fitted estimators */\n",
       "  --sklearn-color-fitted-level-0: #f0f8ff;\n",
       "  --sklearn-color-fitted-level-1: #d4ebff;\n",
       "  --sklearn-color-fitted-level-2: #b3dbfd;\n",
       "  --sklearn-color-fitted-level-3: cornflowerblue;\n",
       "\n",
       "  /* Specific color for light theme */\n",
       "  --sklearn-color-text-on-default-background: var(--sg-text-color, var(--theme-code-foreground, var(--jp-content-font-color1, black)));\n",
       "  --sklearn-color-background: var(--sg-background-color, var(--theme-background, var(--jp-layout-color0, white)));\n",
       "  --sklearn-color-border-box: var(--sg-text-color, var(--theme-code-foreground, var(--jp-content-font-color1, black)));\n",
       "  --sklearn-color-icon: #696969;\n",
       "\n",
       "  @media (prefers-color-scheme: dark) {\n",
       "    /* Redefinition of color scheme for dark theme */\n",
       "    --sklearn-color-text-on-default-background: var(--sg-text-color, var(--theme-code-foreground, var(--jp-content-font-color1, white)));\n",
       "    --sklearn-color-background: var(--sg-background-color, var(--theme-background, var(--jp-layout-color0, #111)));\n",
       "    --sklearn-color-border-box: var(--sg-text-color, var(--theme-code-foreground, var(--jp-content-font-color1, white)));\n",
       "    --sklearn-color-icon: #878787;\n",
       "  }\n",
       "}\n",
       "\n",
       "#sk-container-id-1 {\n",
       "  color: var(--sklearn-color-text);\n",
       "}\n",
       "\n",
       "#sk-container-id-1 pre {\n",
       "  padding: 0;\n",
       "}\n",
       "\n",
       "#sk-container-id-1 input.sk-hidden--visually {\n",
       "  border: 0;\n",
       "  clip: rect(1px 1px 1px 1px);\n",
       "  clip: rect(1px, 1px, 1px, 1px);\n",
       "  height: 1px;\n",
       "  margin: -1px;\n",
       "  overflow: hidden;\n",
       "  padding: 0;\n",
       "  position: absolute;\n",
       "  width: 1px;\n",
       "}\n",
       "\n",
       "#sk-container-id-1 div.sk-dashed-wrapped {\n",
       "  border: 1px dashed var(--sklearn-color-line);\n",
       "  margin: 0 0.4em 0.5em 0.4em;\n",
       "  box-sizing: border-box;\n",
       "  padding-bottom: 0.4em;\n",
       "  background-color: var(--sklearn-color-background);\n",
       "}\n",
       "\n",
       "#sk-container-id-1 div.sk-container {\n",
       "  /* jupyter's `normalize.less` sets `[hidden] { display: none; }`\n",
       "     but bootstrap.min.css set `[hidden] { display: none !important; }`\n",
       "     so we also need the `!important` here to be able to override the\n",
       "     default hidden behavior on the sphinx rendered scikit-learn.org.\n",
       "     See: https://github.com/scikit-learn/scikit-learn/issues/21755 */\n",
       "  display: inline-block !important;\n",
       "  position: relative;\n",
       "}\n",
       "\n",
       "#sk-container-id-1 div.sk-text-repr-fallback {\n",
       "  display: none;\n",
       "}\n",
       "\n",
       "div.sk-parallel-item,\n",
       "div.sk-serial,\n",
       "div.sk-item {\n",
       "  /* draw centered vertical line to link estimators */\n",
       "  background-image: linear-gradient(var(--sklearn-color-text-on-default-background), var(--sklearn-color-text-on-default-background));\n",
       "  background-size: 2px 100%;\n",
       "  background-repeat: no-repeat;\n",
       "  background-position: center center;\n",
       "}\n",
       "\n",
       "/* Parallel-specific style estimator block */\n",
       "\n",
       "#sk-container-id-1 div.sk-parallel-item::after {\n",
       "  content: \"\";\n",
       "  width: 100%;\n",
       "  border-bottom: 2px solid var(--sklearn-color-text-on-default-background);\n",
       "  flex-grow: 1;\n",
       "}\n",
       "\n",
       "#sk-container-id-1 div.sk-parallel {\n",
       "  display: flex;\n",
       "  align-items: stretch;\n",
       "  justify-content: center;\n",
       "  background-color: var(--sklearn-color-background);\n",
       "  position: relative;\n",
       "}\n",
       "\n",
       "#sk-container-id-1 div.sk-parallel-item {\n",
       "  display: flex;\n",
       "  flex-direction: column;\n",
       "}\n",
       "\n",
       "#sk-container-id-1 div.sk-parallel-item:first-child::after {\n",
       "  align-self: flex-end;\n",
       "  width: 50%;\n",
       "}\n",
       "\n",
       "#sk-container-id-1 div.sk-parallel-item:last-child::after {\n",
       "  align-self: flex-start;\n",
       "  width: 50%;\n",
       "}\n",
       "\n",
       "#sk-container-id-1 div.sk-parallel-item:only-child::after {\n",
       "  width: 0;\n",
       "}\n",
       "\n",
       "/* Serial-specific style estimator block */\n",
       "\n",
       "#sk-container-id-1 div.sk-serial {\n",
       "  display: flex;\n",
       "  flex-direction: column;\n",
       "  align-items: center;\n",
       "  background-color: var(--sklearn-color-background);\n",
       "  padding-right: 1em;\n",
       "  padding-left: 1em;\n",
       "}\n",
       "\n",
       "\n",
       "/* Toggleable style: style used for estimator/Pipeline/ColumnTransformer box that is\n",
       "clickable and can be expanded/collapsed.\n",
       "- Pipeline and ColumnTransformer use this feature and define the default style\n",
       "- Estimators will overwrite some part of the style using the `sk-estimator` class\n",
       "*/\n",
       "\n",
       "/* Pipeline and ColumnTransformer style (default) */\n",
       "\n",
       "#sk-container-id-1 div.sk-toggleable {\n",
       "  /* Default theme specific background. It is overwritten whether we have a\n",
       "  specific estimator or a Pipeline/ColumnTransformer */\n",
       "  background-color: var(--sklearn-color-background);\n",
       "}\n",
       "\n",
       "/* Toggleable label */\n",
       "#sk-container-id-1 label.sk-toggleable__label {\n",
       "  cursor: pointer;\n",
       "  display: block;\n",
       "  width: 100%;\n",
       "  margin-bottom: 0;\n",
       "  padding: 0.5em;\n",
       "  box-sizing: border-box;\n",
       "  text-align: center;\n",
       "}\n",
       "\n",
       "#sk-container-id-1 label.sk-toggleable__label-arrow:before {\n",
       "  /* Arrow on the left of the label */\n",
       "  content: \"▸\";\n",
       "  float: left;\n",
       "  margin-right: 0.25em;\n",
       "  color: var(--sklearn-color-icon);\n",
       "}\n",
       "\n",
       "#sk-container-id-1 label.sk-toggleable__label-arrow:hover:before {\n",
       "  color: var(--sklearn-color-text);\n",
       "}\n",
       "\n",
       "/* Toggleable content - dropdown */\n",
       "\n",
       "#sk-container-id-1 div.sk-toggleable__content {\n",
       "  max-height: 0;\n",
       "  max-width: 0;\n",
       "  overflow: hidden;\n",
       "  text-align: left;\n",
       "  /* unfitted */\n",
       "  background-color: var(--sklearn-color-unfitted-level-0);\n",
       "}\n",
       "\n",
       "#sk-container-id-1 div.sk-toggleable__content.fitted {\n",
       "  /* fitted */\n",
       "  background-color: var(--sklearn-color-fitted-level-0);\n",
       "}\n",
       "\n",
       "#sk-container-id-1 div.sk-toggleable__content pre {\n",
       "  margin: 0.2em;\n",
       "  border-radius: 0.25em;\n",
       "  color: var(--sklearn-color-text);\n",
       "  /* unfitted */\n",
       "  background-color: var(--sklearn-color-unfitted-level-0);\n",
       "}\n",
       "\n",
       "#sk-container-id-1 div.sk-toggleable__content.fitted pre {\n",
       "  /* unfitted */\n",
       "  background-color: var(--sklearn-color-fitted-level-0);\n",
       "}\n",
       "\n",
       "#sk-container-id-1 input.sk-toggleable__control:checked~div.sk-toggleable__content {\n",
       "  /* Expand drop-down */\n",
       "  max-height: 200px;\n",
       "  max-width: 100%;\n",
       "  overflow: auto;\n",
       "}\n",
       "\n",
       "#sk-container-id-1 input.sk-toggleable__control:checked~label.sk-toggleable__label-arrow:before {\n",
       "  content: \"▾\";\n",
       "}\n",
       "\n",
       "/* Pipeline/ColumnTransformer-specific style */\n",
       "\n",
       "#sk-container-id-1 div.sk-label input.sk-toggleable__control:checked~label.sk-toggleable__label {\n",
       "  color: var(--sklearn-color-text);\n",
       "  background-color: var(--sklearn-color-unfitted-level-2);\n",
       "}\n",
       "\n",
       "#sk-container-id-1 div.sk-label.fitted input.sk-toggleable__control:checked~label.sk-toggleable__label {\n",
       "  background-color: var(--sklearn-color-fitted-level-2);\n",
       "}\n",
       "\n",
       "/* Estimator-specific style */\n",
       "\n",
       "/* Colorize estimator box */\n",
       "#sk-container-id-1 div.sk-estimator input.sk-toggleable__control:checked~label.sk-toggleable__label {\n",
       "  /* unfitted */\n",
       "  background-color: var(--sklearn-color-unfitted-level-2);\n",
       "}\n",
       "\n",
       "#sk-container-id-1 div.sk-estimator.fitted input.sk-toggleable__control:checked~label.sk-toggleable__label {\n",
       "  /* fitted */\n",
       "  background-color: var(--sklearn-color-fitted-level-2);\n",
       "}\n",
       "\n",
       "#sk-container-id-1 div.sk-label label.sk-toggleable__label,\n",
       "#sk-container-id-1 div.sk-label label {\n",
       "  /* The background is the default theme color */\n",
       "  color: var(--sklearn-color-text-on-default-background);\n",
       "}\n",
       "\n",
       "/* On hover, darken the color of the background */\n",
       "#sk-container-id-1 div.sk-label:hover label.sk-toggleable__label {\n",
       "  color: var(--sklearn-color-text);\n",
       "  background-color: var(--sklearn-color-unfitted-level-2);\n",
       "}\n",
       "\n",
       "/* Label box, darken color on hover, fitted */\n",
       "#sk-container-id-1 div.sk-label.fitted:hover label.sk-toggleable__label.fitted {\n",
       "  color: var(--sklearn-color-text);\n",
       "  background-color: var(--sklearn-color-fitted-level-2);\n",
       "}\n",
       "\n",
       "/* Estimator label */\n",
       "\n",
       "#sk-container-id-1 div.sk-label label {\n",
       "  font-family: monospace;\n",
       "  font-weight: bold;\n",
       "  display: inline-block;\n",
       "  line-height: 1.2em;\n",
       "}\n",
       "\n",
       "#sk-container-id-1 div.sk-label-container {\n",
       "  text-align: center;\n",
       "}\n",
       "\n",
       "/* Estimator-specific */\n",
       "#sk-container-id-1 div.sk-estimator {\n",
       "  font-family: monospace;\n",
       "  border: 1px dotted var(--sklearn-color-border-box);\n",
       "  border-radius: 0.25em;\n",
       "  box-sizing: border-box;\n",
       "  margin-bottom: 0.5em;\n",
       "  /* unfitted */\n",
       "  background-color: var(--sklearn-color-unfitted-level-0);\n",
       "}\n",
       "\n",
       "#sk-container-id-1 div.sk-estimator.fitted {\n",
       "  /* fitted */\n",
       "  background-color: var(--sklearn-color-fitted-level-0);\n",
       "}\n",
       "\n",
       "/* on hover */\n",
       "#sk-container-id-1 div.sk-estimator:hover {\n",
       "  /* unfitted */\n",
       "  background-color: var(--sklearn-color-unfitted-level-2);\n",
       "}\n",
       "\n",
       "#sk-container-id-1 div.sk-estimator.fitted:hover {\n",
       "  /* fitted */\n",
       "  background-color: var(--sklearn-color-fitted-level-2);\n",
       "}\n",
       "\n",
       "/* Specification for estimator info (e.g. \"i\" and \"?\") */\n",
       "\n",
       "/* Common style for \"i\" and \"?\" */\n",
       "\n",
       ".sk-estimator-doc-link,\n",
       "a:link.sk-estimator-doc-link,\n",
       "a:visited.sk-estimator-doc-link {\n",
       "  float: right;\n",
       "  font-size: smaller;\n",
       "  line-height: 1em;\n",
       "  font-family: monospace;\n",
       "  background-color: var(--sklearn-color-background);\n",
       "  border-radius: 1em;\n",
       "  height: 1em;\n",
       "  width: 1em;\n",
       "  text-decoration: none !important;\n",
       "  margin-left: 1ex;\n",
       "  /* unfitted */\n",
       "  border: var(--sklearn-color-unfitted-level-1) 1pt solid;\n",
       "  color: var(--sklearn-color-unfitted-level-1);\n",
       "}\n",
       "\n",
       ".sk-estimator-doc-link.fitted,\n",
       "a:link.sk-estimator-doc-link.fitted,\n",
       "a:visited.sk-estimator-doc-link.fitted {\n",
       "  /* fitted */\n",
       "  border: var(--sklearn-color-fitted-level-1) 1pt solid;\n",
       "  color: var(--sklearn-color-fitted-level-1);\n",
       "}\n",
       "\n",
       "/* On hover */\n",
       "div.sk-estimator:hover .sk-estimator-doc-link:hover,\n",
       ".sk-estimator-doc-link:hover,\n",
       "div.sk-label-container:hover .sk-estimator-doc-link:hover,\n",
       ".sk-estimator-doc-link:hover {\n",
       "  /* unfitted */\n",
       "  background-color: var(--sklearn-color-unfitted-level-3);\n",
       "  color: var(--sklearn-color-background);\n",
       "  text-decoration: none;\n",
       "}\n",
       "\n",
       "div.sk-estimator.fitted:hover .sk-estimator-doc-link.fitted:hover,\n",
       ".sk-estimator-doc-link.fitted:hover,\n",
       "div.sk-label-container:hover .sk-estimator-doc-link.fitted:hover,\n",
       ".sk-estimator-doc-link.fitted:hover {\n",
       "  /* fitted */\n",
       "  background-color: var(--sklearn-color-fitted-level-3);\n",
       "  color: var(--sklearn-color-background);\n",
       "  text-decoration: none;\n",
       "}\n",
       "\n",
       "/* Span, style for the box shown on hovering the info icon */\n",
       ".sk-estimator-doc-link span {\n",
       "  display: none;\n",
       "  z-index: 9999;\n",
       "  position: relative;\n",
       "  font-weight: normal;\n",
       "  right: .2ex;\n",
       "  padding: .5ex;\n",
       "  margin: .5ex;\n",
       "  width: min-content;\n",
       "  min-width: 20ex;\n",
       "  max-width: 50ex;\n",
       "  color: var(--sklearn-color-text);\n",
       "  box-shadow: 2pt 2pt 4pt #999;\n",
       "  /* unfitted */\n",
       "  background: var(--sklearn-color-unfitted-level-0);\n",
       "  border: .5pt solid var(--sklearn-color-unfitted-level-3);\n",
       "}\n",
       "\n",
       ".sk-estimator-doc-link.fitted span {\n",
       "  /* fitted */\n",
       "  background: var(--sklearn-color-fitted-level-0);\n",
       "  border: var(--sklearn-color-fitted-level-3);\n",
       "}\n",
       "\n",
       ".sk-estimator-doc-link:hover span {\n",
       "  display: block;\n",
       "}\n",
       "\n",
       "/* \"?\"-specific style due to the `<a>` HTML tag */\n",
       "\n",
       "#sk-container-id-1 a.estimator_doc_link {\n",
       "  float: right;\n",
       "  font-size: 1rem;\n",
       "  line-height: 1em;\n",
       "  font-family: monospace;\n",
       "  background-color: var(--sklearn-color-background);\n",
       "  border-radius: 1rem;\n",
       "  height: 1rem;\n",
       "  width: 1rem;\n",
       "  text-decoration: none;\n",
       "  /* unfitted */\n",
       "  color: var(--sklearn-color-unfitted-level-1);\n",
       "  border: var(--sklearn-color-unfitted-level-1) 1pt solid;\n",
       "}\n",
       "\n",
       "#sk-container-id-1 a.estimator_doc_link.fitted {\n",
       "  /* fitted */\n",
       "  border: var(--sklearn-color-fitted-level-1) 1pt solid;\n",
       "  color: var(--sklearn-color-fitted-level-1);\n",
       "}\n",
       "\n",
       "/* On hover */\n",
       "#sk-container-id-1 a.estimator_doc_link:hover {\n",
       "  /* unfitted */\n",
       "  background-color: var(--sklearn-color-unfitted-level-3);\n",
       "  color: var(--sklearn-color-background);\n",
       "  text-decoration: none;\n",
       "}\n",
       "\n",
       "#sk-container-id-1 a.estimator_doc_link.fitted:hover {\n",
       "  /* fitted */\n",
       "  background-color: var(--sklearn-color-fitted-level-3);\n",
       "}\n",
       "</style><div id=\"sk-container-id-1\" class=\"sk-top-container\"><div class=\"sk-text-repr-fallback\"><pre>GridSearchCV(cv=3, estimator=SVC(max_iter=20000, random_state=42),\n",
       "             param_grid={&#x27;C&#x27;: [0.1, 1, 10], &#x27;gamma&#x27;: [0.01, 0.1, 1],\n",
       "                         &#x27;kernel&#x27;: [&#x27;rbf&#x27;]},\n",
       "             scoring=&#x27;accuracy&#x27;, verbose=1)</pre><b>In a Jupyter environment, please rerun this cell to show the HTML representation or trust the notebook. <br />On GitHub, the HTML representation is unable to render, please try loading this page with nbviewer.org.</b></div><div class=\"sk-container\" hidden><div class=\"sk-item sk-dashed-wrapped\"><div class=\"sk-label-container\"><div class=\"sk-label fitted sk-toggleable\"><input class=\"sk-toggleable__control sk-hidden--visually\" id=\"sk-estimator-id-1\" type=\"checkbox\" ><label for=\"sk-estimator-id-1\" class=\"sk-toggleable__label fitted sk-toggleable__label-arrow fitted\">&nbsp;&nbsp;GridSearchCV<a class=\"sk-estimator-doc-link fitted\" rel=\"noreferrer\" target=\"_blank\" href=\"https://scikit-learn.org/1.5/modules/generated/sklearn.model_selection.GridSearchCV.html\">?<span>Documentation for GridSearchCV</span></a><span class=\"sk-estimator-doc-link fitted\">i<span>Fitted</span></span></label><div class=\"sk-toggleable__content fitted\"><pre>GridSearchCV(cv=3, estimator=SVC(max_iter=20000, random_state=42),\n",
       "             param_grid={&#x27;C&#x27;: [0.1, 1, 10], &#x27;gamma&#x27;: [0.01, 0.1, 1],\n",
       "                         &#x27;kernel&#x27;: [&#x27;rbf&#x27;]},\n",
       "             scoring=&#x27;accuracy&#x27;, verbose=1)</pre></div> </div></div><div class=\"sk-parallel\"><div class=\"sk-parallel-item\"><div class=\"sk-item\"><div class=\"sk-label-container\"><div class=\"sk-label fitted sk-toggleable\"><input class=\"sk-toggleable__control sk-hidden--visually\" id=\"sk-estimator-id-2\" type=\"checkbox\" ><label for=\"sk-estimator-id-2\" class=\"sk-toggleable__label fitted sk-toggleable__label-arrow fitted\">best_estimator_: SVC</label><div class=\"sk-toggleable__content fitted\"><pre>SVC(C=1, gamma=0.1, max_iter=20000, random_state=42)</pre></div> </div></div><div class=\"sk-serial\"><div class=\"sk-item\"><div class=\"sk-estimator fitted sk-toggleable\"><input class=\"sk-toggleable__control sk-hidden--visually\" id=\"sk-estimator-id-3\" type=\"checkbox\" ><label for=\"sk-estimator-id-3\" class=\"sk-toggleable__label fitted sk-toggleable__label-arrow fitted\">&nbsp;SVC<a class=\"sk-estimator-doc-link fitted\" rel=\"noreferrer\" target=\"_blank\" href=\"https://scikit-learn.org/1.5/modules/generated/sklearn.svm.SVC.html\">?<span>Documentation for SVC</span></a></label><div class=\"sk-toggleable__content fitted\"><pre>SVC(C=1, gamma=0.1, max_iter=20000, random_state=42)</pre></div> </div></div></div></div></div></div></div></div></div>"
      ],
      "text/plain": [
       "GridSearchCV(cv=3, estimator=SVC(max_iter=20000, random_state=42),\n",
       "             param_grid={'C': [0.1, 1, 10], 'gamma': [0.01, 0.1, 1],\n",
       "                         'kernel': ['rbf']},\n",
       "             scoring='accuracy', verbose=1)"
      ]
     },
     "execution_count": 119,
     "metadata": {},
     "output_type": "execute_result"
    }
   ],
   "source": [
    "warnings.filterwarnings(\"ignore\")\n",
    "param_grid = {\n",
    "    'C': [0.1, 1, 10],    \n",
    "    'gamma': [0.01, 0.1, 1], \n",
    "    'kernel': ['rbf']       \n",
    "}\n",
    "\n",
    "grid_search_svm = GridSearchCV(\n",
    "    SVC(random_state=42, max_iter=20000),\n",
    "    param_grid=param_grid,\n",
    "    cv=3,                             \n",
    "    scoring='accuracy',                  \n",
    "    verbose=1                            \n",
    ")\n",
    "\n",
    "grid_search_svm.fit(X_train_scaled_selected_svm, y_train)"
   ]
  },
  {
   "cell_type": "code",
   "execution_count": 120,
   "metadata": {},
   "outputs": [
    {
     "name": "stdout",
     "output_type": "stream",
     "text": [
      "Mejores Hiperparámetros: {'C': 1, 'gamma': 0.1, 'kernel': 'rbf'}\n"
     ]
    }
   ],
   "source": [
    "print(\"Mejores Hiperparámetros:\", grid_search_svm.best_params_)"
   ]
  },
  {
   "cell_type": "code",
   "execution_count": 121,
   "metadata": {},
   "outputs": [
    {
     "name": "stdout",
     "output_type": "stream",
     "text": [
      "\n",
      "Resultados del modelo hiperparametrizado:\n",
      "Accuracy: 0.77225\n",
      "Precision: 0.7740712619866471\n",
      "Recall: 0.7731178969435261\n",
      "F1-Score: 0.773214396737871\n"
     ]
    }
   ],
   "source": [
    "best_svm_model = grid_search_svm.best_estimator_\n",
    "y_pred_best = best_svm_model.predict(X_test_scaled_selected_svm)\n",
    "\n",
    "accuracy_best_svm = accuracy_score(y_test, y_pred_best)\n",
    "precision_best_svm = precision_score(y_test, y_pred_best, average='macro')\n",
    "recall_best_svm = recall_score(y_test, y_pred_best, average='macro')\n",
    "f1_best_svm = f1_score(y_test, y_pred_best, average='macro')\n",
    "\n",
    "print(\"\\nResultados del modelo hiperparametrizado:\")\n",
    "print(\"Accuracy:\", accuracy_best_svm)\n",
    "print(\"Precision:\", precision_best_svm)\n",
    "print(\"Recall:\", recall_best_svm)\n",
    "print(\"F1-Score:\", f1_best_svm)"
   ]
  },
  {
   "cell_type": "markdown",
   "metadata": {},
   "source": [
    "#### Evaluación en datos no vistos"
   ]
  },
  {
   "cell_type": "code",
   "execution_count": 122,
   "metadata": {},
   "outputs": [],
   "source": [
    "X_nuevo_svm = df_test[['duration_ms', 'acousticness', 'danceability', 'energy',\n",
    "       'instrumentalness', 'loudness', 'tempo', 'valence', 'popularity',\n",
    "       'explicit', 'artists_frequency', 'energy_danceability_valence',\n",
    "       'acoustic_intensity', 'valence_energy_dif']]\n",
    "y_nuevo_svm = df_test['decade_label']"
   ]
  },
  {
   "cell_type": "code",
   "execution_count": 123,
   "metadata": {},
   "outputs": [
    {
     "name": "stdout",
     "output_type": "stream",
     "text": [
      "Número de outliers por columna:\n",
      "instrumentalness               5129\n",
      "artists_frequency              2248\n",
      "explicit                       1193\n",
      "duration_ms                    1156\n",
      "loudness                        576\n",
      "acoustic_intensity              445\n",
      "valence_energy_dif              437\n",
      "tempo                           250\n",
      "energy_danceability_valence     149\n",
      "popularity                       16\n",
      "danceability                      8\n",
      "acousticness                      0\n",
      "energy                            0\n",
      "valence                           0\n",
      "dtype: int64\n",
      "\n",
      "Porcentaje de outliers por columna:\n",
      "instrumentalness               21.379742\n",
      "artists_frequency               9.370571\n",
      "explicit                        4.972905\n",
      "duration_ms                     4.818674\n",
      "loudness                        2.401000\n",
      "acoustic_intensity              1.854940\n",
      "valence_energy_dif              1.821592\n",
      "tempo                           1.042101\n",
      "energy_danceability_valence     0.621092\n",
      "popularity                      0.066694\n",
      "danceability                    0.033347\n",
      "acousticness                    0.000000\n",
      "energy                          0.000000\n",
      "valence                         0.000000\n",
      "dtype: float64\n"
     ]
    }
   ],
   "source": [
    "Q1 = X_nuevo_svm.quantile(0.25)\n",
    "Q3 = X_nuevo_svm.quantile(0.75)\n",
    "IQR = Q3 - Q1\n",
    "\n",
    "outlier_mask = (X_nuevo_svm < (Q1 - 1.5 * IQR)) | (X_nuevo_svm > (Q3 + 1.5 * IQR))\n",
    "\n",
    "print(\"Número de outliers por columna:\")\n",
    "print(outlier_mask.sum().sort_values(ascending=False))\n",
    "\n",
    "\n",
    "print(\"\\nPorcentaje de outliers por columna:\")\n",
    "print(((outlier_mask.sum() / len(X_nuevo_svm)) * 100).sort_values(ascending=False))"
   ]
  },
  {
   "cell_type": "code",
   "execution_count": 124,
   "metadata": {},
   "outputs": [],
   "source": [
    "X_scaled_nuevo_svm = X_nuevo_svm.copy()\n",
    "scaler = StandardScaler()\n",
    "X_scaled_nuevo_svm = scaler.fit_transform(X_scaled_nuevo_svm)\n",
    "X_scaled_nuevo_svm = pd.DataFrame(X_scaled_nuevo_svm, columns=X_nuevo_svm.columns)"
   ]
  },
  {
   "cell_type": "code",
   "execution_count": null,
   "metadata": {},
   "outputs": [
    {
     "name": "stderr",
     "output_type": "stream",
     "text": [
      "c:\\Users\\Propietario\\AppData\\Local\\Programs\\Python\\Python312\\Lib\\site-packages\\sklearn\\base.py:486: UserWarning: X has feature names, but SVC was fitted without feature names\n",
      "  warnings.warn(\n"
     ]
    },
    {
     "name": "stdout",
     "output_type": "stream",
     "text": [
      "Rencimiento en datos no vistos:\n",
      "Accuracy: 0.7587328053355565\n",
      "Precision: 0.7607144954223642\n",
      "Recall: 0.7587553712974552\n",
      "F1-Score: 0.7594597229994445\n"
     ]
    }
   ],
   "source": [
    "warnings.filterwarnings(\"ignore\")\n",
    "y_nuevos_pred_svm = best_svm_model.predict(X_scaled_nuevo_svm)\n",
    "\n",
    "accuracy_svm_nuevo = accuracy_score(y_nuevo_svm, y_nuevos_pred_svm)\n",
    "precision_svm_nuevo = precision_score(y_nuevo_svm, y_nuevos_pred_svm, average='macro')\n",
    "recall_svm_nuevo = recall_score(y_nuevo_svm, y_nuevos_pred_svm, average='macro')\n",
    "f1_svm_nuevo = f1_score(y_nuevo_svm, y_nuevos_pred_svm, average='macro')\n",
    "\n",
    "print(\"Rencimiento en datos no vistos:\")\n",
    "print(\"Accuracy:\", accuracy_svm_nuevo)\n",
    "print(\"Precision:\", precision_svm_nuevo)\n",
    "print(\"Recall:\", recall_svm_nuevo)\n",
    "print(\"F1-Score:\", f1_svm_nuevo)"
   ]
  },
  {
   "cell_type": "code",
   "execution_count": 126,
   "metadata": {},
   "outputs": [
    {
     "name": "stdout",
     "output_type": "stream",
     "text": [
      "\n",
      "Reporte de clasificación:\n",
      "              precision    recall  f1-score   support\n",
      "\n",
      "           0       0.86      0.81      0.83      7990\n",
      "           1       0.67      0.68      0.67      8000\n",
      "           2       0.76      0.79      0.77      8000\n",
      "\n",
      "    accuracy                           0.76     23990\n",
      "   macro avg       0.76      0.76      0.76     23990\n",
      "weighted avg       0.76      0.76      0.76     23990\n",
      "\n"
     ]
    }
   ],
   "source": [
    "#Classification Report\n",
    "print(\"\\nReporte de clasificación:\")\n",
    "print(classification_report(y_nuevo_svm, y_nuevos_pred_svm))"
   ]
  },
  {
   "cell_type": "code",
   "execution_count": 127,
   "metadata": {},
   "outputs": [
    {
     "data": {
      "image/png": "[encoded data removed]",
      "text/plain": [
       "<Figure size 600x400 with 2 Axes>"
      ]
     },
     "metadata": {},
     "output_type": "display_data"
    }
   ],
   "source": [
    "#Confusion Matrix\n",
    "conf_matrix_svm = confusion_matrix(y_nuevo_svm, y_nuevos_pred_svm)\n",
    "plt.figure(figsize=(6, 4))\n",
    "sns.heatmap(conf_matrix_svm, annot=True, fmt='d', cmap='Blues', xticklabels=best_svm_model.classes_, yticklabels=best_svm_model.classes_)\n",
    "plt.title('Matriz de Confusión - SVM')\n",
    "plt.xlabel('Predicción')\n",
    "plt.ylabel('Valor Real')\n",
    "plt.show()"
   ]
  },
  {
   "cell_type": "code",
   "execution_count": null,
   "metadata": {},
   "outputs": [
    {
     "name": "stderr",
     "output_type": "stream",
     "text": [
      "c:\\Users\\Propietario\\AppData\\Local\\Programs\\Python\\Python312\\Lib\\site-packages\\sklearn\\base.py:486: UserWarning: X has feature names, but SVC was fitted without feature names\n",
      "  warnings.warn(\n"
     ]
    },
    {
     "name": "stdout",
     "output_type": "stream",
     "text": [
      "Scores de decisión (primeras filas):\n",
      "[[-0.24377988  1.04460934  2.23990158]\n",
      " [-0.24903831  0.96372163  2.25156368]\n",
      " [-0.2009259   2.21527579  0.92189896]\n",
      " [-0.2090191   1.13556405  2.16632525]\n",
      " [ 2.21499051  1.13531222 -0.23809518]]\n"
     ]
    }
   ],
   "source": [
    "# Obtener las distancias al hiperplano de decisión\n",
    "warnings.filterwarnings(\"ignore\")\n",
    "decision_scores = best_svm_model.decision_function(X_scaled_nuevo_svm)\n",
    "\n",
    "print(\"Scores de decisión (primeras filas):\")\n",
    "print(decision_scores[:5])"
   ]
  },
  {
   "cell_type": "markdown",
   "metadata": {},
   "source": [
    "-------"
   ]
  },
  {
   "cell_type": "markdown",
   "metadata": {},
   "source": [
    "### KNN (con preprocesado PCA)"
   ]
  },
  {
   "cell_type": "markdown",
   "metadata": {},
   "source": [
    "Variables seleccionadas con feature importance en XGBoost. Se excluye también energy porque se había comprobado multicolinealidad con variables como loudness y acousticness y este es un modelo sensible a la relación entre variables predictoras."
   ]
  },
  {
   "cell_type": "code",
   "execution_count": 134,
   "metadata": {},
   "outputs": [],
   "source": [
    "from sklearn.decomposition import PCA\n",
    "from sklearn.neighbors import KNeighborsClassifier"
   ]
  },
  {
   "cell_type": "code",
   "execution_count": 136,
   "metadata": {},
   "outputs": [
    {
     "name": "stdout",
     "output_type": "stream",
     "text": [
      "Varianza acumulada hasta el último componente: 0.9627966010745087\n",
      "Accuracy: 0.6402667778240934\n",
      "Precision: 0.6376821535367032\n",
      "Recall: 0.6396321968857577\n",
      "F1-Score: 0.6339930101430822\n"
     ]
    }
   ],
   "source": [
    "X_knn = df[['duration_ms', 'acousticness', 'danceability', 'instrumentalness',\n",
    "          'loudness', 'speechiness', 'valence', 'tempo', 'popularity_normalized']]\n",
    "y_knn = df['decade_label']\n",
    "\n",
    "scaler = StandardScaler()\n",
    "X_scaled = scaler.fit_transform(X_knn)\n",
    "\n",
    "pca = PCA(n_components=8)\n",
    "X_pca = pca.fit_transform(X_scaled)\n",
    "\n",
    "cumulative_variance = np.cumsum(pca.explained_variance_ratio_)\n",
    "print(\"Varianza acumulada hasta el último componente:\", cumulative_variance[-1])\n",
    "\n",
    "X_train_pca, X_test_pca, y_train, y_test = train_test_split(X_pca, y_knn, test_size=0.2, random_state=42)\n",
    "\n",
    "model_knn = KNeighborsClassifier(n_neighbors=10)\n",
    "\n",
    "model_knn.fit(X_train_pca, y_train)\n",
    "\n",
    "y_pred_pca = model_knn.predict(X_test_pca)\n",
    "\n",
    "accuracy_pca = accuracy_score(y_test, y_pred_pca)\n",
    "precision_pca = precision_score(y_test, y_pred_pca, average='macro')\n",
    "recall_pca = recall_score(y_test, y_pred_pca, average='macro')\n",
    "f1_pca = f1_score(y_test, y_pred_pca, average='macro')\n",
    "\n",
    "print(f\"Accuracy: {accuracy_pca}\")\n",
    "print(f\"Precision: {precision_pca}\")\n",
    "print(f\"Recall: {recall_pca}\")\n",
    "print(f\"F1-Score: {f1_pca}\")"
   ]
  },
  {
   "cell_type": "markdown",
   "metadata": {},
   "source": [
    "#### Evaluación en datos no vistos"
   ]
  },
  {
   "cell_type": "code",
   "execution_count": 137,
   "metadata": {},
   "outputs": [
    {
     "name": "stdout",
     "output_type": "stream",
     "text": [
      "Resultados en datos no vistos:\n",
      "Accuracy: 0.6443518132555232\n",
      "Precision: 0.6425484440769725\n",
      "Recall: 0.6444311118064247\n",
      "F1-Score: 0.6387397048216948\n"
     ]
    }
   ],
   "source": [
    "X_knn_nuevo = df_test[['duration_ms', 'acousticness', 'danceability', 'instrumentalness',\n",
    "          'loudness', 'speechiness', 'valence', 'tempo', 'popularity_normalized']]\n",
    "y_knn_nuevo = df_test['decade_label']\n",
    "\n",
    "X_new_scaled = scaler.transform(X_knn_nuevo)\n",
    "\n",
    "X_new_pca = pca.transform(X_new_scaled)\n",
    "\n",
    "y_new_pred = model_knn.predict(X_new_pca)\n",
    "\n",
    "accuracy_nuevo_knn = accuracy_score(y_knn_nuevo, y_new_pred)\n",
    "precision_nuevo_knn = precision_score(y_knn_nuevo, y_new_pred, average='macro')\n",
    "recall_nuevo_knn = recall_score(y_knn_nuevo, y_new_pred, average='macro')\n",
    "f1_nuevo_knn = f1_score(y_knn_nuevo, y_new_pred, average='macro')\n",
    "\n",
    "print(\"Resultados en datos no vistos:\")\n",
    "print(f\"Accuracy: {accuracy_nuevo_knn}\")\n",
    "print(f\"Precision: {precision_nuevo_knn}\")\n",
    "print(f\"Recall: {recall_nuevo_knn}\")\n",
    "print(f\"F1-Score: {f1_nuevo_knn}\")"
   ]
  },
  {
   "cell_type": "code",
   "execution_count": 138,
   "metadata": {},
   "outputs": [
    {
     "name": "stdout",
     "output_type": "stream",
     "text": [
      "\n",
      "Reporte de clasificación:\n",
      "              precision    recall  f1-score   support\n",
      "\n",
      "           0       0.69      0.83      0.75      7990\n",
      "           1       0.57      0.56      0.56      8000\n",
      "           2       0.67      0.54      0.60      8000\n",
      "\n",
      "    accuracy                           0.64     23990\n",
      "   macro avg       0.64      0.64      0.64     23990\n",
      "weighted avg       0.64      0.64      0.64     23990\n",
      "\n"
     ]
    }
   ],
   "source": [
    "#Classification Report\n",
    "print(\"\\nReporte de clasificación:\")\n",
    "print(classification_report(y_knn_nuevo, y_new_pred))"
   ]
  },
  {
   "cell_type": "code",
   "execution_count": 139,
   "metadata": {},
   "outputs": [
    {
     "data": {
      "image/png": "[encoded data removed]",
      "text/plain": [
       "<Figure size 600x400 with 2 Axes>"
      ]
     },
     "metadata": {},
     "output_type": "display_data"
    }
   ],
   "source": [
    "#Confusion Matrix\n",
    "conf_matrix_knn = confusion_matrix(y_knn_nuevo, y_new_pred)\n",
    "plt.figure(figsize=(6, 4))\n",
    "sns.heatmap(conf_matrix_knn, annot=True, fmt='d', cmap='Blues', xticklabels=model_knn.classes_, yticklabels=model_knn.classes_)\n",
    "plt.title('Matriz de Confusión - SVM')\n",
    "plt.xlabel('Predicción')\n",
    "plt.ylabel('Valor Real')\n",
    "plt.show()"
   ]
  },
  {
   "cell_type": "markdown",
   "metadata": {},
   "source": [
    "----"
   ]
  },
  {
   "cell_type": "markdown",
   "metadata": {},
   "source": [
    "### Evaluación del modelo elegido en canciones actuales"
   ]
  },
  {
   "cell_type": "code",
   "execution_count": 143,
   "metadata": {},
   "outputs": [],
   "source": [
    "df_tracks = pd.read_csv(\"../data/processed/actual_tracks_processed.csv\")"
   ]
  },
  {
   "cell_type": "code",
   "execution_count": 144,
   "metadata": {},
   "outputs": [
    {
     "data": {
      "text/html": [
       "<div>\n",
       "<style scoped>\n",
       "    .dataframe tbody tr th:only-of-type {\n",
       "        vertical-align: middle;\n",
       "    }\n",
       "\n",
       "    .dataframe tbody tr th {\n",
       "        vertical-align: top;\n",
       "    }\n",
       "\n",
       "    .dataframe thead th {\n",
       "        text-align: right;\n",
       "    }\n",
       "</style>\n",
       "<table border=\"1\" class=\"dataframe\">\n",
       "  <thead>\n",
       "    <tr style=\"text-align: right;\">\n",
       "      <th></th>\n",
       "      <th>Unnamed: 0</th>\n",
       "      <th>id</th>\n",
       "      <th>name</th>\n",
       "      <th>artists</th>\n",
       "      <th>duration_ms</th>\n",
       "      <th>release_date</th>\n",
       "      <th>year</th>\n",
       "      <th>popularity</th>\n",
       "      <th>explicit</th>\n",
       "      <th>acousticness</th>\n",
       "      <th>...</th>\n",
       "      <th>instrumentalness</th>\n",
       "      <th>liveness</th>\n",
       "      <th>loudness</th>\n",
       "      <th>speechiness</th>\n",
       "      <th>tempo</th>\n",
       "      <th>valence</th>\n",
       "      <th>mode</th>\n",
       "      <th>key</th>\n",
       "      <th>decade_label</th>\n",
       "      <th>popularity_normalized</th>\n",
       "    </tr>\n",
       "  </thead>\n",
       "  <tbody>\n",
       "    <tr>\n",
       "      <th>0</th>\n",
       "      <td>0</td>\n",
       "      <td>2kJRlOyrxsy7Ot3c5TZ8Q6</td>\n",
       "      <td>Meu Pedaço de Pecado</td>\n",
       "      <td>João Gomes</td>\n",
       "      <td>157175</td>\n",
       "      <td>2021-06-01</td>\n",
       "      <td>2021</td>\n",
       "      <td>0</td>\n",
       "      <td>False</td>\n",
       "      <td>0.36900</td>\n",
       "      <td>...</td>\n",
       "      <td>0.000001</td>\n",
       "      <td>0.2570</td>\n",
       "      <td>-4.404</td>\n",
       "      <td>0.0564</td>\n",
       "      <td>151.920</td>\n",
       "      <td>0.9070</td>\n",
       "      <td>0</td>\n",
       "      <td>11</td>\n",
       "      <td>2020</td>\n",
       "      <td>-3.822324</td>\n",
       "    </tr>\n",
       "    <tr>\n",
       "      <th>1</th>\n",
       "      <td>2</td>\n",
       "      <td>0VjIjW4GlUZAMYd2vXMi3b</td>\n",
       "      <td>Blinding Lights</td>\n",
       "      <td>The Weeknd</td>\n",
       "      <td>200040</td>\n",
       "      <td>2020-03-20</td>\n",
       "      <td>2020</td>\n",
       "      <td>88</td>\n",
       "      <td>False</td>\n",
       "      <td>0.00143</td>\n",
       "      <td>...</td>\n",
       "      <td>0.000095</td>\n",
       "      <td>0.0897</td>\n",
       "      <td>-5.940</td>\n",
       "      <td>0.0598</td>\n",
       "      <td>171.001</td>\n",
       "      <td>0.3340</td>\n",
       "      <td>1</td>\n",
       "      <td>1</td>\n",
       "      <td>2020</td>\n",
       "      <td>0.895673</td>\n",
       "    </tr>\n",
       "    <tr>\n",
       "      <th>2</th>\n",
       "      <td>4</td>\n",
       "      <td>5CZ40GBx1sQ9agT82CLQCT</td>\n",
       "      <td>traitor</td>\n",
       "      <td>Olivia Rodrigo</td>\n",
       "      <td>229226</td>\n",
       "      <td>2021-05-21</td>\n",
       "      <td>2021</td>\n",
       "      <td>83</td>\n",
       "      <td>False</td>\n",
       "      <td>0.69100</td>\n",
       "      <td>...</td>\n",
       "      <td>0.000000</td>\n",
       "      <td>0.1200</td>\n",
       "      <td>-7.885</td>\n",
       "      <td>0.0338</td>\n",
       "      <td>100.607</td>\n",
       "      <td>0.0849</td>\n",
       "      <td>1</td>\n",
       "      <td>3</td>\n",
       "      <td>2020</td>\n",
       "      <td>0.627605</td>\n",
       "    </tr>\n",
       "    <tr>\n",
       "      <th>3</th>\n",
       "      <td>5</td>\n",
       "      <td>6Uj1ctrBOjOas8xZXGqKk4</td>\n",
       "      <td>Woman</td>\n",
       "      <td>Doja Cat</td>\n",
       "      <td>172626</td>\n",
       "      <td>2021-06-25</td>\n",
       "      <td>2021</td>\n",
       "      <td>82</td>\n",
       "      <td>True</td>\n",
       "      <td>0.08880</td>\n",
       "      <td>...</td>\n",
       "      <td>0.002940</td>\n",
       "      <td>0.1170</td>\n",
       "      <td>-4.175</td>\n",
       "      <td>0.0854</td>\n",
       "      <td>107.998</td>\n",
       "      <td>0.8810</td>\n",
       "      <td>0</td>\n",
       "      <td>5</td>\n",
       "      <td>2020</td>\n",
       "      <td>0.573992</td>\n",
       "    </tr>\n",
       "    <tr>\n",
       "      <th>4</th>\n",
       "      <td>7</td>\n",
       "      <td>5QO79kh1waicV47BqGRL3g</td>\n",
       "      <td>Save Your Tears</td>\n",
       "      <td>The Weeknd</td>\n",
       "      <td>215626</td>\n",
       "      <td>2020-03-20</td>\n",
       "      <td>2020</td>\n",
       "      <td>84</td>\n",
       "      <td>True</td>\n",
       "      <td>0.02120</td>\n",
       "      <td>...</td>\n",
       "      <td>0.000012</td>\n",
       "      <td>0.5430</td>\n",
       "      <td>-5.487</td>\n",
       "      <td>0.0309</td>\n",
       "      <td>118.049</td>\n",
       "      <td>0.6440</td>\n",
       "      <td>1</td>\n",
       "      <td>0</td>\n",
       "      <td>2020</td>\n",
       "      <td>0.681219</td>\n",
       "    </tr>\n",
       "  </tbody>\n",
       "</table>\n",
       "<p>5 rows × 22 columns</p>\n",
       "</div>"
      ],
      "text/plain": [
       "   Unnamed: 0                      id                  name         artists  \\\n",
       "0           0  2kJRlOyrxsy7Ot3c5TZ8Q6  Meu Pedaço de Pecado      João Gomes   \n",
       "1           2  0VjIjW4GlUZAMYd2vXMi3b       Blinding Lights      The Weeknd   \n",
       "2           4  5CZ40GBx1sQ9agT82CLQCT               traitor  Olivia Rodrigo   \n",
       "3           5  6Uj1ctrBOjOas8xZXGqKk4                 Woman        Doja Cat   \n",
       "4           7  5QO79kh1waicV47BqGRL3g       Save Your Tears      The Weeknd   \n",
       "\n",
       "   duration_ms release_date  year  popularity  explicit  acousticness  ...  \\\n",
       "0       157175   2021-06-01  2021           0     False       0.36900  ...   \n",
       "1       200040   2020-03-20  2020          88     False       0.00143  ...   \n",
       "2       229226   2021-05-21  2021          83     False       0.69100  ...   \n",
       "3       172626   2021-06-25  2021          82      True       0.08880  ...   \n",
       "4       215626   2020-03-20  2020          84      True       0.02120  ...   \n",
       "\n",
       "   instrumentalness  liveness  loudness  speechiness    tempo  valence  mode  \\\n",
       "0          0.000001    0.2570    -4.404       0.0564  151.920   0.9070     0   \n",
       "1          0.000095    0.0897    -5.940       0.0598  171.001   0.3340     1   \n",
       "2          0.000000    0.1200    -7.885       0.0338  100.607   0.0849     1   \n",
       "3          0.002940    0.1170    -4.175       0.0854  107.998   0.8810     0   \n",
       "4          0.000012    0.5430    -5.487       0.0309  118.049   0.6440     1   \n",
       "\n",
       "   key  decade_label  popularity_normalized  \n",
       "0   11          2020              -3.822324  \n",
       "1    1          2020               0.895673  \n",
       "2    3          2020               0.627605  \n",
       "3    5          2020               0.573992  \n",
       "4    0          2020               0.681219  \n",
       "\n",
       "[5 rows x 22 columns]"
      ]
     },
     "execution_count": 144,
     "metadata": {},
     "output_type": "execute_result"
    }
   ],
   "source": [
    "df_tracks.head(5)"
   ]
  },
  {
   "cell_type": "code",
   "execution_count": 145,
   "metadata": {},
   "outputs": [
    {
     "name": "stdout",
     "output_type": "stream",
     "text": [
      "<class 'pandas.core.frame.DataFrame'>\n",
      "RangeIndex: 296 entries, 0 to 295\n",
      "Data columns (total 22 columns):\n",
      " #   Column                 Non-Null Count  Dtype  \n",
      "---  ------                 --------------  -----  \n",
      " 0   Unnamed: 0             296 non-null    int64  \n",
      " 1   id                     296 non-null    object \n",
      " 2   name                   296 non-null    object \n",
      " 3   artists                296 non-null    object \n",
      " 4   duration_ms            296 non-null    int64  \n",
      " 5   release_date           296 non-null    object \n",
      " 6   year                   296 non-null    int64  \n",
      " 7   popularity             296 non-null    int64  \n",
      " 8   explicit               296 non-null    bool   \n",
      " 9   acousticness           296 non-null    float64\n",
      " 10  danceability           296 non-null    float64\n",
      " 11  energy                 296 non-null    float64\n",
      " 12  instrumentalness       296 non-null    float64\n",
      " 13  liveness               296 non-null    float64\n",
      " 14  loudness               296 non-null    float64\n",
      " 15  speechiness            296 non-null    float64\n",
      " 16  tempo                  296 non-null    float64\n",
      " 17  valence                296 non-null    float64\n",
      " 18  mode                   296 non-null    int64  \n",
      " 19  key                    296 non-null    int64  \n",
      " 20  decade_label           296 non-null    int64  \n",
      " 21  popularity_normalized  296 non-null    float64\n",
      "dtypes: bool(1), float64(10), int64(7), object(4)\n",
      "memory usage: 49.0+ KB\n"
     ]
    }
   ],
   "source": [
    "df_tracks.info()"
   ]
  },
  {
   "cell_type": "code",
   "execution_count": 146,
   "metadata": {},
   "outputs": [],
   "source": [
    "X_actual_tracks = df_tracks[['duration_ms', 'acousticness', 'danceability', 'energy', 'instrumentalness',\n",
    "                             'loudness', 'speechiness', 'valence', 'tempo', 'popularity_normalized']]"
   ]
  },
  {
   "cell_type": "code",
   "execution_count": 147,
   "metadata": {},
   "outputs": [],
   "source": [
    "df_tracks['predicted_decade'] = best_model_xgb.predict(X_actual_tracks)"
   ]
  },
  {
   "cell_type": "code",
   "execution_count": 149,
   "metadata": {},
   "outputs": [
    {
     "name": "stdout",
     "output_type": "stream",
     "text": [
      "                    name         artists  predicted_decade\n",
      "0   Meu Pedaço de Pecado      João Gomes                 2\n",
      "1        Blinding Lights      The Weeknd                 2\n",
      "2                traitor  Olivia Rodrigo                 2\n",
      "3                  Woman        Doja Cat                 1\n",
      "4        Save Your Tears      The Weeknd                 2\n",
      "5      Happier Than Ever   Billie Eilish                 0\n",
      "6                deja vu  Olivia Rodrigo                 2\n",
      "7        Don't Start Now        Dua Lipa                 2\n",
      "8  I WANNA BE YOUR SLAVE        Måneskin                 2\n",
      "9              telepatía      Kali Uchis                 0\n"
     ]
    }
   ],
   "source": [
    "print(df_tracks[['name', 'artists', 'predicted_decade']].head(10))"
   ]
  },
  {
   "cell_type": "code",
   "execution_count": 151,
   "metadata": {},
   "outputs": [
    {
     "data": {
      "text/plain": [
       "predicted_decade\n",
       "2    214\n",
       "1     41\n",
       "0     41\n",
       "Name: count, dtype: int64"
      ]
     },
     "execution_count": 151,
     "metadata": {},
     "output_type": "execute_result"
    }
   ],
   "source": [
    "df_tracks['predicted_decade'].value_counts(ascending=False)"
   ]
  },
  {
   "cell_type": "markdown",
   "metadata": {},
   "source": [
    "### Gaurdar modelos"
   ]
  },
  {
   "cell_type": "code",
   "execution_count": 152,
   "metadata": {},
   "outputs": [],
   "source": [
    "import pickle"
   ]
  },
  {
   "cell_type": "code",
   "execution_count": 153,
   "metadata": {},
   "outputs": [],
   "source": [
    "with open('finalmodel.pkl', 'wb') as f:\n",
    "    pickle.dump(best_model_xgb, f)"
   ]
  },
  {
   "cell_type": "code",
   "execution_count": 155,
   "metadata": {},
   "outputs": [],
   "source": [
    "import yaml\n",
    "best_params_xgb = grid_search_xgb.best_params_\n",
    "with open(\"finalmodel_params.yaml\", \"w\") as file:\n",
    "    yaml.dump(best_params_xgb, file)"
   ]
  },
  {
   "cell_type": "code",
   "execution_count": 156,
   "metadata": {},
   "outputs": [],
   "source": [
    "with open('XGB.pkl', 'wb') as f:\n",
    "    pickle.dump(model_xgb, f)"
   ]
  }
 ],
 "metadata": {
  "kernelspec": {
   "display_name": "Python 3",
   "language": "python",
   "name": "python3"
  },
  "language_info": {
   "codemirror_mode": {
    "name": "ipython",
    "version": 3
   },
   "file_extension": ".py",
   "mimetype": "text/x-python",
   "name": "python",
   "nbconvert_exporter": "python",
   "pygments_lexer": "ipython3",
   "version": "3.12.6"
  }
 },
 "nbformat": 4,
 "nbformat_minor": 2
}
